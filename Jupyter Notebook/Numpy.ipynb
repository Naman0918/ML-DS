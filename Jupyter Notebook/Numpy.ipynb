{
 "cells": [
  {
   "cell_type": "code",
   "execution_count": 1,
   "id": "0aa91023-63c2-4a4d-a0cf-95611aca2075",
   "metadata": {},
   "outputs": [],
   "source": [
    "import numpy as np"
   ]
  },
  {
   "cell_type": "code",
   "execution_count": 2,
   "id": "7cf0c6ff-e386-4e34-899f-fb74baf71b8a",
   "metadata": {},
   "outputs": [],
   "source": [
    "a = np.array([1, 2 , 3])"
   ]
  },
  {
   "cell_type": "code",
   "execution_count": 4,
   "id": "833b66f5-ed4c-4d1a-a979-da330c82f6db",
   "metadata": {},
   "outputs": [
    {
     "name": "stdout",
     "output_type": "stream",
     "text": [
      "[1 2 3]\n"
     ]
    }
   ],
   "source": [
    " print(a)\n",
    "    \n",
    "    "
   ]
  },
  {
   "cell_type": "code",
   "execution_count": 8,
   "id": "ca90f8df-c6e9-4363-9c3f-1463c810935a",
   "metadata": {},
   "outputs": [
    {
     "name": "stdout",
     "output_type": "stream",
     "text": [
      "[[1 2 3]\n",
      " [4 5 6]]\n"
     ]
    }
   ],
   "source": [
    " a1 = np.array([[1, 2 , 3],[4,5,6]])\n",
    "print(a1)\n",
    "\n",
    "#its a 2d array"
   ]
  },
  {
   "cell_type": "code",
   "execution_count": 12,
   "id": "ea4f425b-5854-4bd2-9a63-232284f36304",
   "metadata": {},
   "outputs": [
    {
     "data": {
      "text/plain": [
       "6"
      ]
     },
     "execution_count": 12,
     "metadata": {},
     "output_type": "execute_result"
    }
   ],
   "source": [
    " #to get a specific element \n",
    "a1[1,2]"
   ]
  },
  {
   "cell_type": "code",
   "execution_count": 13,
   "id": "04c86273-e7ce-40d1-b0c6-3367b4e549e0",
   "metadata": {},
   "outputs": [
    {
     "data": {
      "text/plain": [
       "array([1, 2, 3])"
      ]
     },
     "execution_count": 13,
     "metadata": {},
     "output_type": "execute_result"
    }
   ],
   "source": [
    "# to get a specific row \n",
    "a1[0,:]"
   ]
  },
  {
   "cell_type": "code",
   "execution_count": 15,
   "id": "2add7f18-7b11-450a-bd04-69200615df07",
   "metadata": {},
   "outputs": [
    {
     "name": "stdout",
     "output_type": "stream",
     "text": [
      "[3 6]\n"
     ]
    }
   ],
   "source": [
    "# to get a specific column \n",
    "print (a1[:,2])"
   ]
  },
  {
   "cell_type": "code",
   "execution_count": 17,
   "id": "fc7d917f-5201-461b-bbde-d92ffbd955e9",
   "metadata": {},
   "outputs": [
    {
     "name": "stdout",
     "output_type": "stream",
     "text": [
      "[[ 1  2  3]\n",
      " [ 4  5 20]]\n"
     ]
    }
   ],
   "source": [
    "# changing the element \n",
    "a1[1,2] = 20\n",
    "print(a1)"
   ]
  },
  {
   "cell_type": "code",
   "execution_count": 18,
   "id": "ef0a9db2-2c0a-4250-9e9d-edcb5add03b2",
   "metadata": {},
   "outputs": [],
   "source": [
    "# INITIALIZING DIFFERENT TYPES OF ARRAYS "
   ]
  },
  {
   "cell_type": "code",
   "execution_count": 20,
   "id": "94c98fa2-fdf5-4907-97c5-d602fe89b1fc",
   "metadata": {},
   "outputs": [
    {
     "data": {
      "text/plain": [
       "array([[[[0., 0.],\n",
       "         [0., 0.],\n",
       "         [0., 0.]],\n",
       "\n",
       "        [[0., 0.],\n",
       "         [0., 0.],\n",
       "         [0., 0.]],\n",
       "\n",
       "        [[0., 0.],\n",
       "         [0., 0.],\n",
       "         [0., 0.]]],\n",
       "\n",
       "\n",
       "       [[[0., 0.],\n",
       "         [0., 0.],\n",
       "         [0., 0.]],\n",
       "\n",
       "        [[0., 0.],\n",
       "         [0., 0.],\n",
       "         [0., 0.]],\n",
       "\n",
       "        [[0., 0.],\n",
       "         [0., 0.],\n",
       "         [0., 0.]]]])"
      ]
     },
     "execution_count": 20,
     "metadata": {},
     "output_type": "execute_result"
    }
   ],
   "source": [
    "np.zeros((2,3,3,2))"
   ]
  },
  {
   "cell_type": "code",
   "execution_count": 29,
   "id": "03b4e1f8-98d7-4aaa-aed3-74c25d37477e",
   "metadata": {},
   "outputs": [
    {
     "name": "stdout",
     "output_type": "stream",
     "text": [
      "[5 6]\n"
     ]
    }
   ],
   "source": [
    "import numpy as np\n",
    "\n",
    "arr = np.array([1, 2, 3, 7, 5, 6, 8])\n",
    "\n",
    "# slicing the array before 4 th index\n",
    "#print(arr[4:])\n",
    "\n",
    "#Slice from the index 3 from the end to index 1 from the end:\n",
    "\n",
    "print(arr[-3:-1])\n"
   ]
  },
  {
   "cell_type": "code",
   "execution_count": 30,
   "id": "bdd1e862-03da-48b7-a8da-cc31508f421a",
   "metadata": {},
   "outputs": [
    {
     "name": "stdout",
     "output_type": "stream",
     "text": [
      "[7 8 9]\n"
     ]
    }
   ],
   "source": [
    "import numpy as np\n",
    "\n",
    "arr = np.array([[1, 2, 3, 4, 5], [6, 7, 8, 9, 10]])\n",
    "\n",
    "print(arr[1, 1:4])\n"
   ]
  },
  {
   "cell_type": "code",
   "execution_count": 70,
   "id": "2aadeb68-17c7-4542-b2dc-766521623109",
   "metadata": {},
   "outputs": [
    {
     "name": "stdout",
     "output_type": "stream",
     "text": [
      "<attribute 'dtype' of 'numpy.generic' objects>\n"
     ]
    }
   ],
   "source": [
    "#this gives the datatype of an array\n",
    "print(arr.dtype)\n",
    "# to give a data type use \n",
    "dtype = np.float32"
   ]
  },
  {
   "cell_type": "code",
   "execution_count": 69,
   "id": "e3656d35-90d8-4a7c-924d-2de2da804ffa",
   "metadata": {},
   "outputs": [
    {
     "name": "stdout",
     "output_type": "stream",
     "text": [
      "1\n"
     ]
    }
   ],
   "source": [
    "# this gives the dimensions of the array \n",
    "print(arr.ndim)"
   ]
  },
  {
   "cell_type": "code",
   "execution_count": 37,
   "id": "c880d33b-8adf-48ec-b15d-8040a340a873",
   "metadata": {},
   "outputs": [
    {
     "name": "stdout",
     "output_type": "stream",
     "text": [
      "[20  4  5  6]\n",
      "[3 4 5 6]\n"
     ]
    }
   ],
   "source": [
    "# WHAT IS A  VIEW AND WHAT IS A COPY OF AN ARRAY\n",
    "arr = np.array([3,4,5,6])\n",
    "x = arr.copy()\n",
    "arr[0]=20\n",
    "print(arr)\n",
    "print(x)\n",
    "\n",
    "# in copy the orignal array dosen't change "
   ]
  },
  {
   "cell_type": "code",
   "execution_count": 36,
   "id": "2f33273e-af89-494e-8ba7-42882a272e67",
   "metadata": {},
   "outputs": [
    {
     "name": "stdout",
     "output_type": "stream",
     "text": [
      "[20  4  5  6]\n",
      "[20  4  5  6]\n"
     ]
    }
   ],
   "source": [
    "# WHAT IS A  VIEW AND WHAT IS A COPY OF AN ARRAY\n",
    "arr = np.array([3,4,5,6])\n",
    "x = arr.view()\n",
    "arr[0]=20\n",
    "print(arr)\n",
    "print(x)"
   ]
  },
  {
   "cell_type": "code",
   "execution_count": 38,
   "id": "ab8f2d8c-34da-4a5a-b27f-d6c6a6d13edb",
   "metadata": {},
   "outputs": [
    {
     "name": "stdout",
     "output_type": "stream",
     "text": [
      "None\n",
      "[1 2 3 4 5]\n"
     ]
    }
   ],
   "source": [
    "arr = np.array([1, 2, 3, 4, 5])\n",
    "\n",
    "x = arr.copy()\n",
    "y = arr.view()\n",
    "\n",
    "print(x.base)\n",
    "print(y.base)\n"
   ]
  },
  {
   "cell_type": "code",
   "execution_count": 42,
   "id": "f4dbcf2d-44b8-4a1a-b1fd-9a4b77428ef8",
   "metadata": {},
   "outputs": [
    {
     "name": "stdout",
     "output_type": "stream",
     "text": [
      "[[[ 1  2]\n",
      "  [ 3  4]\n",
      "  [ 5  6]]\n",
      "\n",
      " [[ 7  8]\n",
      "  [ 9 10]\n",
      "  [11 12]]]\n"
     ]
    }
   ],
   "source": [
    "# how to reshape or change dimensions of an arrayimport numpy as np\n",
    "\n",
    "arr = np.array([1, 2, 3, 4, 5, 6, 7, 8, 9, 10, 11, 12])\n",
    "# Convert the following 1-D array with 12 elements into a 3-D array.\n",
    "\n",
    "# The outermost dimension will have 2 arrays that contains 3 arrays, each with 2 elements:\n",
    "#2d, rows, columns\n",
    "newarr = arr.reshape(2, 3, 2)\n",
    "\n",
    "print(newarr)\n",
    "\n",
    "#this converts the 1 d array into a 3d array"
   ]
  },
  {
   "cell_type": "code",
   "execution_count": 48,
   "id": "66334fcb-f934-4c63-adb9-2569caafce43",
   "metadata": {},
   "outputs": [
    {
     "name": "stdout",
     "output_type": "stream",
     "text": [
      "[list([1, 2, 3, 4, 5]) list([6, 7, 8, 10, 11, 12])]\n"
     ]
    },
    {
     "name": "stderr",
     "output_type": "stream",
     "text": [
      "/var/folders/d5/zstxby4j7mxfxsrnpgf5wfy00000gn/T/ipykernel_5494/762928618.py:4: VisibleDeprecationWarning: Creating an ndarray from ragged nested sequences (which is a list-or-tuple of lists-or-tuples-or ndarrays with different lengths or shapes) is deprecated. If you meant to do this, you must specify 'dtype=object' when creating the ndarray.\n",
      "  arr = np.array([[1, 2, 3, 4, 5],[ 6, 7, 8, 10, 11, 12]])\n"
     ]
    }
   ],
   "source": [
    "# flattening the array means changing the array into a a 1D array\n",
    "# we can use reshape(-1) \n",
    "import numpy as np\n",
    "arr = np.array([[1, 2, 3, 4, 5],[ 6, 7, 8, 10, 11, 12]])\n",
    "newarr = arr.reshape(-1)\n",
    "print(newarr)"
   ]
  },
  {
   "cell_type": "code",
   "execution_count": 52,
   "id": "caefe294-1fb2-40c9-92a2-f654d25a1f5d",
   "metadata": {},
   "outputs": [
    {
     "name": "stdout",
     "output_type": "stream",
     "text": [
      "1\n",
      "2\n",
      "3\n",
      "4\n",
      "5\n",
      "6\n",
      "7\n",
      "8\n",
      "9\n",
      "10\n",
      "11\n",
      "12\n"
     ]
    }
   ],
   "source": [
    "arr = np.array([1, 2, 3, 4, 5, 6, 7, 8, 9, 10, 11, 12])\n",
    "for x in arr:\n",
    "    print (x)"
   ]
  },
  {
   "cell_type": "code",
   "execution_count": 56,
   "id": "84e6f78e-2520-46fd-af2c-95b16cbb63e2",
   "metadata": {},
   "outputs": [
    {
     "name": "stdout",
     "output_type": "stream",
     "text": [
      "1\n",
      "2\n",
      "3\n",
      "4\n",
      "5\n",
      "6\n"
     ]
    }
   ],
   "source": [
    "# INTERATION IN A 2D ARRAY LOOK FOR CORRECT INDENTATION\n",
    "import numpy as np\n",
    "\n",
    "arr = np.array([[1, 2, 3], [4, 5, 6]])\n",
    "\n",
    "for x in arr:\n",
    "    for y in x:\n",
    "        print(y)"
   ]
  },
  {
   "cell_type": "code",
   "execution_count": 57,
   "id": "4a03ddc7-a272-4866-9812-27853d710fef",
   "metadata": {},
   "outputs": [
    {
     "name": "stdout",
     "output_type": "stream",
     "text": [
      "(array([3, 5, 6]),)\n"
     ]
    }
   ],
   "source": [
    "# TO SEARCH A VALUE IN A ARRAY\n",
    "\n",
    "arr = np.array([1, 2, 3, 4, 5, 4, 4])\n",
    "\n",
    "x = np.where(arr == 4)\n",
    "\n",
    "print(x)\n",
    "# RETURNS THE INDEX WHERE ARRAY IS PRESENT "
   ]
  },
  {
   "cell_type": "code",
   "execution_count": 58,
   "id": "ee6eb1fd-5dde-4aaa-a3ba-9b4027030993",
   "metadata": {},
   "outputs": [
    {
     "name": "stdout",
     "output_type": "stream",
     "text": [
      "(array([1, 3, 5, 7]),)\n"
     ]
    }
   ],
   "source": [
    "\n",
    "arr = np.array([1, 2, 3, 4, 5, 6, 7, 8])\n",
    "\n",
    "x = np.where(arr%2 == 0)\n",
    "\n",
    "print(x)"
   ]
  },
  {
   "cell_type": "code",
   "execution_count": 63,
   "id": "213170a2-ebbb-4651-9b04-a3413e281acf",
   "metadata": {},
   "outputs": [
    {
     "name": "stdout",
     "output_type": "stream",
     "text": [
      "6\n",
      "[1 2 3 4 5 6 7 8]\n"
     ]
    }
   ],
   "source": [
    "# SEARCH SORTED FUNCTION USE \n",
    "arr = np.array([1, 2, 3, 4, 5, 6, 7, 8])\n",
    "x = np.searchsorted(arr,7)\n",
    "print(x)\n",
    "# this gives index for number 7 and puts it in place 1 \n",
    "print(arr)"
   ]
  },
  {
   "cell_type": "code",
   "execution_count": 66,
   "id": "587757af-576c-47d0-8da2-e41c02ddeead",
   "metadata": {},
   "outputs": [
    {
     "name": "stdout",
     "output_type": "stream",
     "text": [
      "7\n"
     ]
    }
   ],
   "source": [
    "# SEARCH SORTED FUNCTION USE wrt side\n",
    "arr = np.array([1, 2, 3, 4, 5, 6, 7, 8])\n",
    "x = np.searchsorted(arr,7,side='right')\n",
    "print(x)"
   ]
  },
  {
   "cell_type": "code",
   "execution_count": 67,
   "id": "a41503ab-cb1c-4ff6-8ff3-5fb053eb8c99",
   "metadata": {},
   "outputs": [
    {
     "name": "stdout",
     "output_type": "stream",
     "text": [
      "[0 1 2 3]\n"
     ]
    }
   ],
   "source": [
    "# sorting of an array using numpy\n",
    "\n",
    "arr = np.array([3, 2, 0, 1])\n",
    "\n",
    "print(np.sort(arr))\n",
    "\n",
    "#sorted array is printed "
   ]
  },
  {
   "cell_type": "code",
   "execution_count": 75,
   "id": "ea81b988-aec4-4c2b-a8ee-d0f4a4451dd6",
   "metadata": {},
   "outputs": [
    {
     "name": "stdout",
     "output_type": "stream",
     "text": [
      "[False, False, True, True]\n",
      "[43 44]\n"
     ]
    }
   ],
   "source": [
    "# To use filters to and array that means \n",
    "# we can use if else statement\n",
    "\n",
    "arr = np.array([41, 42, 43, 44])\n",
    "\n",
    "# Create an empty list\n",
    "filter_arr = []\n",
    "\n",
    "# go through each element in arr\n",
    "for element in arr:\n",
    "  # if the element is higher than 42, set the value to True, otherwise False:\n",
    "  if element > 42:\n",
    "    filter_arr.append(True)\n",
    "  else:\n",
    "    filter_arr.append(False)\n",
    "\n",
    "newarr = arr[filter_arr]\n",
    "\n",
    "print(filter_arr)\n",
    "print(newarr)\n"
   ]
  },
  {
   "cell_type": "code",
   "execution_count": null,
   "id": "a448af0d-c2ae-4b0f-8d14-1820839a7806",
   "metadata": {},
   "outputs": [],
   "source": []
  }
 ],
 "metadata": {
  "kernelspec": {
   "display_name": "Python 3 (ipykernel)",
   "language": "python",
   "name": "python3"
  },
  "language_info": {
   "codemirror_mode": {
    "name": "ipython",
    "version": 3
   },
   "file_extension": ".py",
   "mimetype": "text/x-python",
   "name": "python",
   "nbconvert_exporter": "python",
   "pygments_lexer": "ipython3",
   "version": "3.10.9"
  }
 },
 "nbformat": 4,
 "nbformat_minor": 5
}
