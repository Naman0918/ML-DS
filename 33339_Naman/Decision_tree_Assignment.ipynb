{
 "cells": [
  {
   "cell_type": "code",
   "execution_count": 63,
   "metadata": {},
   "outputs": [],
   "source": [
    "#import Libraries\n",
    "import pandas as pd\n",
    "import numpy as np\n",
    "import matplotlib.pyplot as plt"
   ]
  },
  {
   "cell_type": "code",
   "execution_count": 64,
   "metadata": {},
   "outputs": [],
   "source": [
    "# Read dataset\n",
    "dataset = pd.read_csv(\"Admission_Predict.csv\")"
   ]
  },
  {
   "cell_type": "code",
   "execution_count": 65,
   "metadata": {},
   "outputs": [],
   "source": [
    "datasetcriterion = 'entropy'"
   ]
  },
  {
   "cell_type": "code",
   "execution_count": 66,
   "metadata": {},
   "outputs": [
    {
     "name": "stdout",
     "output_type": "stream",
     "text": [
      "<class 'pandas.core.frame.DataFrame'>\n",
      "RangeIndex: 400 entries, 0 to 399\n",
      "Data columns (total 9 columns):\n",
      " #   Column             Non-Null Count  Dtype  \n",
      "---  ------             --------------  -----  \n",
      " 0   SerialNo           400 non-null    int64  \n",
      " 1   GRE Score          400 non-null    int64  \n",
      " 2   TOEFL Score        400 non-null    int64  \n",
      " 3   University Rating  400 non-null    int64  \n",
      " 4   SOP                400 non-null    float64\n",
      " 5   LOR                400 non-null    float64\n",
      " 6   CGPA               400 non-null    float64\n",
      " 7   Research           400 non-null    int64  \n",
      " 8   Chance of Admit    400 non-null    float64\n",
      "dtypes: float64(4), int64(5)\n",
      "memory usage: 28.2 KB\n"
     ]
    }
   ],
   "source": [
    "# collect information about the dataset\n",
    "dataset.info()"
   ]
  },
  {
   "cell_type": "code",
   "execution_count": 67,
   "metadata": {},
   "outputs": [
    {
     "data": {
      "text/html": [
       "<div>\n",
       "<style scoped>\n",
       "    .dataframe tbody tr th:only-of-type {\n",
       "        vertical-align: middle;\n",
       "    }\n",
       "\n",
       "    .dataframe tbody tr th {\n",
       "        vertical-align: top;\n",
       "    }\n",
       "\n",
       "    .dataframe thead th {\n",
       "        text-align: right;\n",
       "    }\n",
       "</style>\n",
       "<table border=\"1\" class=\"dataframe\">\n",
       "  <thead>\n",
       "    <tr style=\"text-align: right;\">\n",
       "      <th></th>\n",
       "      <th>SerialNo</th>\n",
       "      <th>GRE Score</th>\n",
       "      <th>TOEFL Score</th>\n",
       "      <th>University Rating</th>\n",
       "      <th>SOP</th>\n",
       "      <th>LOR</th>\n",
       "      <th>CGPA</th>\n",
       "      <th>Research</th>\n",
       "      <th>Chance of Admit</th>\n",
       "    </tr>\n",
       "  </thead>\n",
       "  <tbody>\n",
       "    <tr>\n",
       "      <th>count</th>\n",
       "      <td>400.000000</td>\n",
       "      <td>400.000000</td>\n",
       "      <td>400.000000</td>\n",
       "      <td>400.000000</td>\n",
       "      <td>400.000000</td>\n",
       "      <td>400.000000</td>\n",
       "      <td>400.000000</td>\n",
       "      <td>400.000000</td>\n",
       "      <td>400.000000</td>\n",
       "    </tr>\n",
       "    <tr>\n",
       "      <th>mean</th>\n",
       "      <td>200.500000</td>\n",
       "      <td>316.807500</td>\n",
       "      <td>107.410000</td>\n",
       "      <td>3.087500</td>\n",
       "      <td>3.400000</td>\n",
       "      <td>3.452500</td>\n",
       "      <td>8.598925</td>\n",
       "      <td>0.547500</td>\n",
       "      <td>0.724350</td>\n",
       "    </tr>\n",
       "    <tr>\n",
       "      <th>std</th>\n",
       "      <td>115.614301</td>\n",
       "      <td>11.473646</td>\n",
       "      <td>6.069514</td>\n",
       "      <td>1.143728</td>\n",
       "      <td>1.006869</td>\n",
       "      <td>0.898478</td>\n",
       "      <td>0.596317</td>\n",
       "      <td>0.498362</td>\n",
       "      <td>0.142609</td>\n",
       "    </tr>\n",
       "    <tr>\n",
       "      <th>min</th>\n",
       "      <td>1.000000</td>\n",
       "      <td>290.000000</td>\n",
       "      <td>92.000000</td>\n",
       "      <td>1.000000</td>\n",
       "      <td>1.000000</td>\n",
       "      <td>1.000000</td>\n",
       "      <td>6.800000</td>\n",
       "      <td>0.000000</td>\n",
       "      <td>0.340000</td>\n",
       "    </tr>\n",
       "    <tr>\n",
       "      <th>25%</th>\n",
       "      <td>100.750000</td>\n",
       "      <td>308.000000</td>\n",
       "      <td>103.000000</td>\n",
       "      <td>2.000000</td>\n",
       "      <td>2.500000</td>\n",
       "      <td>3.000000</td>\n",
       "      <td>8.170000</td>\n",
       "      <td>0.000000</td>\n",
       "      <td>0.640000</td>\n",
       "    </tr>\n",
       "    <tr>\n",
       "      <th>50%</th>\n",
       "      <td>200.500000</td>\n",
       "      <td>317.000000</td>\n",
       "      <td>107.000000</td>\n",
       "      <td>3.000000</td>\n",
       "      <td>3.500000</td>\n",
       "      <td>3.500000</td>\n",
       "      <td>8.610000</td>\n",
       "      <td>1.000000</td>\n",
       "      <td>0.730000</td>\n",
       "    </tr>\n",
       "    <tr>\n",
       "      <th>75%</th>\n",
       "      <td>300.250000</td>\n",
       "      <td>325.000000</td>\n",
       "      <td>112.000000</td>\n",
       "      <td>4.000000</td>\n",
       "      <td>4.000000</td>\n",
       "      <td>4.000000</td>\n",
       "      <td>9.062500</td>\n",
       "      <td>1.000000</td>\n",
       "      <td>0.830000</td>\n",
       "    </tr>\n",
       "    <tr>\n",
       "      <th>max</th>\n",
       "      <td>400.000000</td>\n",
       "      <td>340.000000</td>\n",
       "      <td>120.000000</td>\n",
       "      <td>5.000000</td>\n",
       "      <td>5.000000</td>\n",
       "      <td>5.000000</td>\n",
       "      <td>9.920000</td>\n",
       "      <td>1.000000</td>\n",
       "      <td>0.970000</td>\n",
       "    </tr>\n",
       "  </tbody>\n",
       "</table>\n",
       "</div>"
      ],
      "text/plain": [
       "         SerialNo   GRE Score  TOEFL Score  University Rating         SOP  \\\n",
       "count  400.000000  400.000000   400.000000         400.000000  400.000000   \n",
       "mean   200.500000  316.807500   107.410000           3.087500    3.400000   \n",
       "std    115.614301   11.473646     6.069514           1.143728    1.006869   \n",
       "min      1.000000  290.000000    92.000000           1.000000    1.000000   \n",
       "25%    100.750000  308.000000   103.000000           2.000000    2.500000   \n",
       "50%    200.500000  317.000000   107.000000           3.000000    3.500000   \n",
       "75%    300.250000  325.000000   112.000000           4.000000    4.000000   \n",
       "max    400.000000  340.000000   120.000000           5.000000    5.000000   \n",
       "\n",
       "             LOR         CGPA    Research  Chance of Admit   \n",
       "count  400.000000  400.000000  400.000000        400.000000  \n",
       "mean     3.452500    8.598925    0.547500          0.724350  \n",
       "std      0.898478    0.596317    0.498362          0.142609  \n",
       "min      1.000000    6.800000    0.000000          0.340000  \n",
       "25%      3.000000    8.170000    0.000000          0.640000  \n",
       "50%      3.500000    8.610000    1.000000          0.730000  \n",
       "75%      4.000000    9.062500    1.000000          0.830000  \n",
       "max      5.000000    9.920000    1.000000          0.970000  "
      ]
     },
     "execution_count": 67,
     "metadata": {},
     "output_type": "execute_result"
    }
   ],
   "source": [
    "# Describe your dataset\n",
    "dataset.describe()"
   ]
  },
  {
   "cell_type": "code",
   "execution_count": 68,
   "metadata": {},
   "outputs": [
    {
     "data": {
      "text/plain": [
       "SerialNo               int64\n",
       "GRE Score              int64\n",
       "TOEFL Score            int64\n",
       "University Rating      int64\n",
       "SOP                  float64\n",
       "LOR                  float64\n",
       "CGPA                 float64\n",
       "Research               int64\n",
       "Chance of Admit      float64\n",
       "dtype: object"
      ]
     },
     "execution_count": 68,
     "metadata": {},
     "output_type": "execute_result"
    }
   ],
   "source": [
    "dataset.dtypes"
   ]
  },
  {
   "cell_type": "code",
   "execution_count": 69,
   "metadata": {},
   "outputs": [
    {
     "data": {
      "text/plain": [
       "SerialNo             0\n",
       "GRE Score            0\n",
       "TOEFL Score          0\n",
       "University Rating    0\n",
       "SOP                  0\n",
       "LOR                  0\n",
       "CGPA                 0\n",
       "Research             0\n",
       "Chance of Admit      0\n",
       "dtype: int64"
      ]
     },
     "execution_count": 69,
     "metadata": {},
     "output_type": "execute_result"
    }
   ],
   "source": [
    "#Find how many null values are present\n",
    "dataset.isna().sum()"
   ]
  },
  {
   "cell_type": "code",
   "execution_count": 70,
   "metadata": {},
   "outputs": [
    {
     "data": {
      "text/plain": [
       "(400, 9)"
      ]
     },
     "execution_count": 70,
     "metadata": {},
     "output_type": "execute_result"
    }
   ],
   "source": [
    "#Shape of the dataset\n",
    "dataset.shape"
   ]
  },
  {
   "cell_type": "code",
   "execution_count": 71,
   "metadata": {},
   "outputs": [
    {
     "data": {
      "text/html": [
       "<div>\n",
       "<style scoped>\n",
       "    .dataframe tbody tr th:only-of-type {\n",
       "        vertical-align: middle;\n",
       "    }\n",
       "\n",
       "    .dataframe tbody tr th {\n",
       "        vertical-align: top;\n",
       "    }\n",
       "\n",
       "    .dataframe thead th {\n",
       "        text-align: right;\n",
       "    }\n",
       "</style>\n",
       "<table border=\"1\" class=\"dataframe\">\n",
       "  <thead>\n",
       "    <tr style=\"text-align: right;\">\n",
       "      <th></th>\n",
       "      <th>SerialNo</th>\n",
       "      <th>GRE Score</th>\n",
       "      <th>TOEFL Score</th>\n",
       "      <th>University Rating</th>\n",
       "      <th>SOP</th>\n",
       "      <th>LOR</th>\n",
       "      <th>CGPA</th>\n",
       "      <th>Research</th>\n",
       "      <th>Chance of Admit</th>\n",
       "    </tr>\n",
       "  </thead>\n",
       "  <tbody>\n",
       "    <tr>\n",
       "      <th>0</th>\n",
       "      <td>False</td>\n",
       "      <td>False</td>\n",
       "      <td>False</td>\n",
       "      <td>False</td>\n",
       "      <td>False</td>\n",
       "      <td>False</td>\n",
       "      <td>False</td>\n",
       "      <td>False</td>\n",
       "      <td>False</td>\n",
       "    </tr>\n",
       "    <tr>\n",
       "      <th>1</th>\n",
       "      <td>False</td>\n",
       "      <td>False</td>\n",
       "      <td>False</td>\n",
       "      <td>False</td>\n",
       "      <td>False</td>\n",
       "      <td>False</td>\n",
       "      <td>False</td>\n",
       "      <td>False</td>\n",
       "      <td>False</td>\n",
       "    </tr>\n",
       "    <tr>\n",
       "      <th>2</th>\n",
       "      <td>False</td>\n",
       "      <td>False</td>\n",
       "      <td>False</td>\n",
       "      <td>False</td>\n",
       "      <td>False</td>\n",
       "      <td>False</td>\n",
       "      <td>False</td>\n",
       "      <td>False</td>\n",
       "      <td>False</td>\n",
       "    </tr>\n",
       "    <tr>\n",
       "      <th>3</th>\n",
       "      <td>False</td>\n",
       "      <td>False</td>\n",
       "      <td>False</td>\n",
       "      <td>False</td>\n",
       "      <td>False</td>\n",
       "      <td>False</td>\n",
       "      <td>False</td>\n",
       "      <td>False</td>\n",
       "      <td>False</td>\n",
       "    </tr>\n",
       "    <tr>\n",
       "      <th>4</th>\n",
       "      <td>False</td>\n",
       "      <td>False</td>\n",
       "      <td>False</td>\n",
       "      <td>False</td>\n",
       "      <td>False</td>\n",
       "      <td>False</td>\n",
       "      <td>False</td>\n",
       "      <td>False</td>\n",
       "      <td>False</td>\n",
       "    </tr>\n",
       "    <tr>\n",
       "      <th>...</th>\n",
       "      <td>...</td>\n",
       "      <td>...</td>\n",
       "      <td>...</td>\n",
       "      <td>...</td>\n",
       "      <td>...</td>\n",
       "      <td>...</td>\n",
       "      <td>...</td>\n",
       "      <td>...</td>\n",
       "      <td>...</td>\n",
       "    </tr>\n",
       "    <tr>\n",
       "      <th>395</th>\n",
       "      <td>False</td>\n",
       "      <td>False</td>\n",
       "      <td>False</td>\n",
       "      <td>False</td>\n",
       "      <td>False</td>\n",
       "      <td>False</td>\n",
       "      <td>False</td>\n",
       "      <td>False</td>\n",
       "      <td>False</td>\n",
       "    </tr>\n",
       "    <tr>\n",
       "      <th>396</th>\n",
       "      <td>False</td>\n",
       "      <td>False</td>\n",
       "      <td>False</td>\n",
       "      <td>False</td>\n",
       "      <td>False</td>\n",
       "      <td>False</td>\n",
       "      <td>False</td>\n",
       "      <td>False</td>\n",
       "      <td>False</td>\n",
       "    </tr>\n",
       "    <tr>\n",
       "      <th>397</th>\n",
       "      <td>False</td>\n",
       "      <td>False</td>\n",
       "      <td>False</td>\n",
       "      <td>False</td>\n",
       "      <td>False</td>\n",
       "      <td>False</td>\n",
       "      <td>False</td>\n",
       "      <td>False</td>\n",
       "      <td>False</td>\n",
       "    </tr>\n",
       "    <tr>\n",
       "      <th>398</th>\n",
       "      <td>False</td>\n",
       "      <td>False</td>\n",
       "      <td>False</td>\n",
       "      <td>False</td>\n",
       "      <td>False</td>\n",
       "      <td>False</td>\n",
       "      <td>False</td>\n",
       "      <td>False</td>\n",
       "      <td>False</td>\n",
       "    </tr>\n",
       "    <tr>\n",
       "      <th>399</th>\n",
       "      <td>False</td>\n",
       "      <td>False</td>\n",
       "      <td>False</td>\n",
       "      <td>False</td>\n",
       "      <td>False</td>\n",
       "      <td>False</td>\n",
       "      <td>False</td>\n",
       "      <td>False</td>\n",
       "      <td>False</td>\n",
       "    </tr>\n",
       "  </tbody>\n",
       "</table>\n",
       "<p>400 rows × 9 columns</p>\n",
       "</div>"
      ],
      "text/plain": [
       "     SerialNo  GRE Score  TOEFL Score  University Rating    SOP   LOR    CGPA  \\\n",
       "0       False      False        False              False  False  False  False   \n",
       "1       False      False        False              False  False  False  False   \n",
       "2       False      False        False              False  False  False  False   \n",
       "3       False      False        False              False  False  False  False   \n",
       "4       False      False        False              False  False  False  False   \n",
       "..        ...        ...          ...                ...    ...    ...    ...   \n",
       "395     False      False        False              False  False  False  False   \n",
       "396     False      False        False              False  False  False  False   \n",
       "397     False      False        False              False  False  False  False   \n",
       "398     False      False        False              False  False  False  False   \n",
       "399     False      False        False              False  False  False  False   \n",
       "\n",
       "     Research  Chance of Admit   \n",
       "0       False             False  \n",
       "1       False             False  \n",
       "2       False             False  \n",
       "3       False             False  \n",
       "4       False             False  \n",
       "..        ...               ...  \n",
       "395     False             False  \n",
       "396     False             False  \n",
       "397     False             False  \n",
       "398     False             False  \n",
       "399     False             False  \n",
       "\n",
       "[400 rows x 9 columns]"
      ]
     },
     "execution_count": 71,
     "metadata": {},
     "output_type": "execute_result"
    }
   ],
   "source": [
    "dataset.isna()\n",
    "# NO null values"
   ]
  },
  {
   "cell_type": "code",
   "execution_count": 72,
   "metadata": {},
   "outputs": [],
   "source": [
    "x = dataset.iloc[:, :5].values # Selection of few columns for exercise purpose"
   ]
  },
  {
   "cell_type": "code",
   "execution_count": 73,
   "metadata": {},
   "outputs": [
    {
     "name": "stdout",
     "output_type": "stream",
     "text": [
      "[[  1.  337.  118.    4.    4.5]\n",
      " [  2.  324.  107.    4.    4. ]\n",
      " [  3.  316.  104.    3.    3. ]\n",
      " ...\n",
      " [398.  330.  116.    4.    5. ]\n",
      " [399.  312.  103.    3.    3.5]\n",
      " [400.  333.  117.    4.    5. ]]\n"
     ]
    }
   ],
   "source": [
    "print(x)"
   ]
  },
  {
   "cell_type": "code",
   "execution_count": 74,
   "metadata": {},
   "outputs": [
    {
     "data": {
      "image/png": "[encoded data removed]",
      "text/plain": [
       "<Figure size 576x360 with 1 Axes>"
      ]
     },
     "metadata": {
      "needs_background": "dark"
     },
     "output_type": "display_data"
    }
   ],
   "source": [
    "# DRAW A HISTOGRAM\n",
    "import matplotlib.pyplot as plt\n",
    "\n",
    "cgpa_data = dataset['CGPA']\n",
    "\n",
    "# Plotting the histogram\n",
    "plt.figure(figsize=(8, 5))\n",
    "plt.xticks(color = 'white')\n",
    "plt.yticks(color = 'white')\n",
    "plt.hist(cgpa_data, color='#abcdef')  # Assuming 'CGPA' column contains the CGPA values\n",
    "plt.xlabel('CGPA' ,color ='white')\n",
    "plt.ylabel('STUDENTS',color ='white')\n",
    "plt.title('CGPA VS STUDENT',color ='white')\n",
    "plt.show()"
   ]
  },
  {
   "cell_type": "code",
   "execution_count": 75,
   "metadata": {},
   "outputs": [
    {
     "data": {
      "text/plain": [
       "<matplotlib.legend.Legend at 0x7f4545e5bfd0>"
      ]
     },
     "execution_count": 75,
     "metadata": {},
     "output_type": "execute_result"
    },
    {
     "data": {
      "image/png": "[encoded data removed]",
      "text/plain": [
       "<Figure size 432x288 with 1 Axes>"
      ]
     },
     "metadata": {
      "needs_background": "dark"
     },
     "output_type": "display_data"
    }
   ],
   "source": [
    "# DRAW A BARCHART\n",
    "plt.xlabel('CGPA',color ='white')\n",
    "plt.ylabel('Serial number',color ='white')\n",
    "plt.title('CGPA vs Serial no.',color ='white') \n",
    "plt.xticks(color = 'white')\n",
    "plt.yticks(color = 'white')\n",
    "plt.bar(dataset.CGPA, dataset.SerialNo, label='Bar chart')\n",
    "plt.legend()\n",
    "\n",
    "#Here just change plot by bar "
   ]
  },
  {
   "cell_type": "code",
   "execution_count": 113,
   "metadata": {},
   "outputs": [],
   "source": [
    "#APPLY LABEL ENCODING TO THE Y COLUMNS \n",
    "dataset.iloc[:,-1] = dataset.iloc[:,-1].apply(lambda x: 1 if x > 0.5 else 0)"
   ]
  },
  {
   "cell_type": "code",
   "execution_count": 115,
   "metadata": {},
   "outputs": [
    {
     "name": "stdout",
     "output_type": "stream",
     "text": [
      "[1 1 1 1 1 1 1 1 0 0 1 1 1 1 1 1 1 1 1 1 1 1 1 1 1 1 1 0 0 1 1 1 1 1 1 1 1\n",
      " 1 1 0 0 0 1 1 1 1 1 1 1 1 1 1 1 1 1 1 1 0 0 0 0 0 1 1 1 1 1 1 1 1 1 1 1 1\n",
      " 1 1 1 1 0 0 0 1 1 1 1 1 1 1 1 1 1 0 0 0 0 0 0 1 1 1 1 1 1 1 1 1 1 1 1 1 1\n",
      " 1 1 1 1 1 1 0 0 1 1 1 1 1 1 1 1 1 1 1 1 1 1 1 1 1 1 1 1 1 1 1 1 1 1 1 1 1\n",
      " 1 1 1 1 1 1 1 1 1 1 1 1 1 1 1 1 1 1 1 1 1 1 1 1 1 1 1 1 1 1 1 1 1 1 1 1 1\n",
      " 1 1 1 1 1 1 1 1 1 1 1 1 1 1 1 1 1 1 1 1 1 1 1 1 1 1 1 1 1 1 1 1 1 1 1 1 1\n",
      " 1 1 1 1 1 1 1 1 1 1 1 1 1 1 1 1 1 1 1 1 1 1 1 1 1 1 1 1 1 1 1 1 1 1 1 1 1\n",
      " 1 1 1 1 1 1 1 1 1 1 1 1 1 0 1 1 1 1 1 1 1 1 1 1 1 1 1 1 1 1 1 1 1 1 1 1 1\n",
      " 1 1 1 1 1 1 1 1 1 1 1 1 1 1 1 1 1 1 1 1 1 1 1 1 1 1 1 1 1 1 1 1 1 0 1 1 1\n",
      " 1 1 1 1 1 1 1 1 1 1 1 0 0 0 0 1 1 1 1 1 1 1 1 1 1 1 1 1 1 1 1 1 1 1 1 1 1\n",
      " 1 1 1 1 0 0 0 0 1 1 1 1 1 1 1 1 0 1 0 1 1 1 1 1 1 1 1 1 1 1]\n"
     ]
    }
   ],
   "source": [
    "print(y)"
   ]
  },
  {
   "cell_type": "code",
   "execution_count": 84,
   "metadata": {},
   "outputs": [
    {
     "data": {
      "text/plain": [
       "0      1\n",
       "1      1\n",
       "2      1\n",
       "3      1\n",
       "4      1\n",
       "      ..\n",
       "395    1\n",
       "396    1\n",
       "397    1\n",
       "398    1\n",
       "399    1\n",
       "Name: Chance of Admit , Length: 400, dtype: int64"
      ]
     },
     "execution_count": 84,
     "metadata": {},
     "output_type": "execute_result"
    }
   ],
   "source": [
    "# CHECK Y COLUMN \n",
    "dataset.iloc[:,-1]"
   ]
  },
  {
   "cell_type": "code",
   "execution_count": 85,
   "metadata": {},
   "outputs": [],
   "source": [
    "#SPLITTING THE DATASET INTO x and y\n",
    "x = dataset.iloc[:, [1,2,3,4,5,6,7]].values\n",
    "y = dataset.iloc[:, -1].values"
   ]
  },
  {
   "cell_type": "code",
   "execution_count": 86,
   "metadata": {},
   "outputs": [
    {
     "name": "stdout",
     "output_type": "stream",
     "text": [
      "[[337.   118.     4.   ...   4.5    9.65   1.  ]\n",
      " [324.   107.     4.   ...   4.5    8.87   1.  ]\n",
      " [316.   104.     3.   ...   3.5    8.     1.  ]\n",
      " ...\n",
      " [330.   116.     4.   ...   4.5    9.45   1.  ]\n",
      " [312.   103.     3.   ...   4.     8.78   0.  ]\n",
      " [333.   117.     4.   ...   4.     9.66   1.  ]]\n"
     ]
    }
   ],
   "source": [
    "print(x)"
   ]
  },
  {
   "cell_type": "code",
   "execution_count": 88,
   "metadata": {},
   "outputs": [],
   "source": [
    "#splitting of test set and training by 75:25 ratio\n",
    "from sklearn.model_selection import train_test_split\n",
    "x_train, x_test, y_train, y_test = train_test_split(x, y, test_size = 0.25, random_state = 0)"
   ]
  },
  {
   "cell_type": "code",
   "execution_count": 89,
   "metadata": {},
   "outputs": [],
   "source": [
    "#importing standarscaler library from sklearn \n",
    "from sklearn.preprocessing import StandardScaler\n",
    "sc = StandardScaler()\n",
    "#apply fit transform to bothx_test and x_train\n",
    "x_train = sc.fit_transform(x_train)\n",
    "x_test = sc.transform(x_test)"
   ]
  },
  {
   "cell_type": "code",
   "execution_count": 90,
   "metadata": {},
   "outputs": [
    {
     "name": "stdout",
     "output_type": "stream",
     "text": [
      "[[ 0.28270144 -0.55273851 -0.09692788 ... -1.0947599  -0.07016885\n",
      "   0.88640526]\n",
      " [-0.14050431 -0.06788017 -0.95217384 ... -0.54370626 -0.18484167\n",
      "   0.88640526]\n",
      " [-0.47906891 -0.06788017  0.75831809 ...  1.10945467  0.63424993\n",
      "   0.88640526]\n",
      " ...\n",
      " [-2.25653307 -0.55273851  0.75831809 ... -1.0947599  -1.8885522\n",
      "  -1.12815215]\n",
      " [ 1.8908833   1.87155319  1.61356406 ...  0.55840102  1.78097817\n",
      "  -1.12815215]\n",
      " [ 0.45198374  0.41697817  0.75831809 ...  1.66050831  0.84721374\n",
      "   0.88640526]]\n"
     ]
    }
   ],
   "source": [
    "print(x_train)"
   ]
  },
  {
   "cell_type": "code",
   "execution_count": 91,
   "metadata": {},
   "outputs": [
    {
     "name": "stdout",
     "output_type": "stream",
     "text": [
      "[[-0.64835121 -0.39111906  1.61356406  0.05765323  0.00734738 -0.08655068\n",
      "  -1.12815215]\n",
      " [-0.73299236  0.41697817  0.75831809  0.05765323 -0.54370626 -0.02102335\n",
      "  -1.12815215]\n",
      " [ 0.79054835  0.41697817 -0.09692788  0.05765323  0.00734738  0.24108596\n",
      "   0.88640526]\n",
      " [-0.90227466 -0.39111906 -0.95217384 -0.42279036 -1.0947599  -0.57800564\n",
      "  -1.12815215]\n",
      " [-0.05586316 -0.39111906 -0.09692788 -0.42279036  0.00734738  0.19194046\n",
      "  -1.12815215]\n",
      " [-0.64835121 -1.19921629 -0.95217384 -0.42279036 -0.54370626 -0.84011495\n",
      "  -1.12815215]\n",
      " [-0.39442776  0.25535873 -0.09692788 -0.42279036 -0.54370626  0.12641314\n",
      "  -1.12815215]\n",
      " [-0.39442776 -0.55273851 -0.09692788  0.05765323  0.55840102 -0.85649678\n",
      "  -1.12815215]\n",
      " [ 1.29839525  1.70993374 -0.95217384  1.01854042  0.00734738  1.22399588\n",
      "   0.88640526]\n",
      " [ 1.2137541   1.5483143   0.75831809  1.01854042  1.66050831  1.32228687\n",
      "   0.88640526]\n",
      " [-1.41012157 -0.39111906 -1.80741981 -2.34456475 -1.64581354 -1.33156991\n",
      "  -1.12815215]\n",
      " [ 1.3830364   0.90183651  1.61356406  0.53809683  0.55840102  1.09294122\n",
      "   0.88640526]\n",
      " [ 0.28270144  0.41697817 -0.95217384  0.53809683  0.00734738 -0.08655068\n",
      "  -1.12815215]\n",
      " [-1.24083927 -1.36083574 -1.80741981 -1.38367756 -1.64581354 -2.23257067\n",
      "  -1.12815215]\n",
      " [ 0.95983065  0.74021706  0.75831809  0.53809683  1.10945467  0.79806825\n",
      "   0.88640526]\n",
      " [-0.47906891 -0.55273851 -0.95217384 -1.38367756 -1.64581354 -0.51247831\n",
      "  -1.12815215]\n",
      " [-0.39442776 -1.52245519 -1.80741981  0.05765323 -0.54370626 -0.70906029\n",
      "   0.88640526]\n",
      " [ 1.0444718   0.41697817 -0.95217384  0.53809683 -0.54370626  0.87997741\n",
      "   0.88640526]\n",
      " [-0.14050431 -1.36083574 -0.95217384  0.05765323 -0.54370626 -1.18413342\n",
      "  -1.12815215]\n",
      " [-0.30978661 -0.06788017 -0.09692788  0.53809683  1.10945467  0.12641314\n",
      "  -1.12815215]\n",
      " [ 1.0444718   1.87155319  0.75831809  1.01854042  1.10945467  0.89635924\n",
      "   0.88640526]\n",
      " [ 0.8751895   0.90183651  0.75831809  1.01854042  1.66050831  0.86359558\n",
      "  -1.12815215]\n",
      " [-1.32548042 -0.22949961  0.75831809 -0.90323396 -0.54370626 -0.23398717\n",
      "  -1.12815215]\n",
      " [-1.83332732 -1.84569408 -0.95217384 -1.86412115 -1.64581354 -2.08513418\n",
      "  -1.12815215]\n",
      " [ 0.28270144  0.57859762  0.75831809  1.01854042  0.00734738  0.42128611\n",
      "   0.88640526]\n",
      " [-1.32548042 -1.19921629 -0.09692788  0.05765323 -0.54370626 -0.93840594\n",
      "  -1.12815215]\n",
      " [-1.74868617 -2.00731353 -0.95217384 -0.42279036 -1.64581354 -1.75749754\n",
      "   0.88640526]\n",
      " [-0.22514546 -0.39111906 -0.09692788  0.05765323 -1.0947599  -0.51247831\n",
      "  -1.12815215]\n",
      " [ 1.63695985  1.70993374  1.61356406  1.01854042  0.55840102  0.94550474\n",
      "   0.88640526]\n",
      " [-0.22514546 -0.22949961 -0.95217384  0.53809683  0.00734738 -0.59438747\n",
      "  -1.12815215]\n",
      " [-0.39442776 -1.03759685 -0.95217384 -0.90323396  0.00734738 -0.93840594\n",
      "   0.88640526]\n",
      " [ 0.53662489 -0.06788017 -0.09692788  0.05765323  0.00734738 -0.10293251\n",
      "   0.88640526]\n",
      " [-0.39442776 -0.06788017  0.75831809  1.01854042  0.55840102  0.06088581\n",
      "   0.88640526]\n",
      " [-1.74868617 -1.36083574 -0.95217384 -0.90323396 -1.0947599  -0.95478777\n",
      "  -1.12815215]\n",
      " [ 0.7059072   0.74021706  0.75831809  0.05765323  0.00734738  0.50319527\n",
      "  -1.12815215]\n",
      " [ 0.8751895   0.74021706 -0.09692788 -0.42279036 -0.54370626  0.17555863\n",
      "   0.88640526]\n",
      " [ 0.11341914 -0.22949961 -0.95217384  0.53809683  0.55840102 -1.13498793\n",
      "   0.88640526]\n",
      " [ 0.53662489  0.90183651  0.75831809  0.53809683  1.10945467  1.01103206\n",
      "   0.88640526]\n",
      " [-0.81763351 -0.8759774  -0.09692788 -0.42279036 -0.54370626 -0.56162381\n",
      "  -1.12815215]\n",
      " [ 1.3830364   1.5483143   0.75831809  1.49898402  0.55840102  1.71545084\n",
      "   0.88640526]\n",
      " [ 0.45198374 -0.06788017 -0.09692788  0.05765323  0.00734738 -0.250369\n",
      "   0.88640526]\n",
      " [-0.22514546 -0.06788017 -0.95217384 -0.90323396  0.55840102 -0.56162381\n",
      "  -1.12815215]\n",
      " [ 0.36734259  0.25535873 -0.09692788 -0.42279036  0.55840102 -0.67629663\n",
      "   0.88640526]\n",
      " [ 0.62126604 -0.06788017  0.75831809  0.53809683  1.10945467  0.42128611\n",
      "   0.88640526]\n",
      " [ 0.28270144  2.03317264 -0.09692788  0.53809683  1.10945467  0.81445008\n",
      "  -1.12815215]\n",
      " [ 0.45198374  0.41697817 -0.09692788 -0.42279036  0.00734738 -1.00393327\n",
      "  -1.12815215]\n",
      " [-0.14050431 -0.39111906 -0.95217384 -1.38367756 -1.0947599  -1.57729739\n",
      "  -1.12815215]\n",
      " [-0.81763351  0.41697817  0.75831809  0.53809683  1.10945467 -0.39780549\n",
      "  -1.12815215]\n",
      " [-0.90227466 -0.22949961 -0.95217384 -1.38367756 -1.0947599  -0.77458762\n",
      "  -1.12815215]\n",
      " [-1.07155697 -1.19921629 -0.95217384 -0.90323396  0.00734738 -0.88926045\n",
      "  -1.12815215]\n",
      " [-0.47906891 -0.55273851 -0.95217384 -0.90323396  0.00734738 -0.21760533\n",
      "  -1.12815215]\n",
      " [ 0.7059072   0.74021706 -0.95217384 -0.42279036  0.00734738  0.5687226\n",
      "   0.88640526]\n",
      " [-0.05586316 -1.03759685 -0.95217384 -0.90323396 -1.64581354 -0.47971465\n",
      "   0.88640526]\n",
      " [ 1.46767755  1.5483143   1.61356406  0.53809683  1.10945467  0.74892275\n",
      "   0.88640526]\n",
      " [-0.47906891 -0.8759774  -0.09692788  1.01854042  0.55840102  0.04450398\n",
      "   0.88640526]\n",
      " [ 0.62126604  0.57859762 -0.09692788 -0.90323396 -1.64581354  0.30661329\n",
      "   0.88640526]\n",
      " [ 1.46767755  1.38669485  0.75831809  0.53809683 -0.54370626 -1.00393327\n",
      "   0.88640526]\n",
      " [ 0.7059072  -0.22949961 -0.09692788  0.05765323  0.55840102 -0.34865999\n",
      "   0.88640526]\n",
      " [ 0.45198374  0.25535873  1.61356406  1.01854042  0.00734738  0.30661329\n",
      "  -1.12815215]\n",
      " [ 0.45198374  0.41697817  1.61356406  1.49898402  0.55840102  0.79806825\n",
      "   0.88640526]\n",
      " [-0.22514546 -0.22949961 -0.09692788 -0.42279036  1.66050831  0.47043161\n",
      "  -1.12815215]\n",
      " [-1.91796847 -2.00731353 -1.80741981 -1.86412115 -2.19686719 -1.59367922\n",
      "  -1.12815215]\n",
      " [-0.22514546 -0.71435795 -0.95217384 -1.38367756 -0.54370626 -0.6599148\n",
      "  -1.12815215]\n",
      " [-1.66404502 -1.52245519 -0.95217384 -0.90323396 -0.54370626 -1.54453373\n",
      "  -1.12815215]\n",
      " [ 0.53662489  0.41697817  1.61356406  0.53809683  1.66050831  0.60148626\n",
      "   0.88640526]\n",
      " [ 0.62126604  0.41697817 -0.09692788  0.05765323 -0.54370626  0.99465023\n",
      "   0.88640526]\n",
      " [ 0.28270144  0.90183651 -0.95217384 -1.38367756 -1.0947599   0.04450398\n",
      "   0.88640526]\n",
      " [ 1.12911295  1.2250754   1.61356406  1.01854042 -0.54370626  1.19123222\n",
      "   0.88640526]\n",
      " [ 0.79054835  0.09373928 -0.09692788 -0.42279036  0.00734738  0.45404978\n",
      "  -1.12815215]\n",
      " [ 0.28270144 -0.55273851 -0.09692788 -0.42279036  0.00734738  0.2083223\n",
      "   0.88640526]\n",
      " [-0.73299236 -1.03759685 -0.95217384 -0.42279036  0.55840102 -1.16775159\n",
      "  -1.12815215]\n",
      " [ 0.8751895   0.09373928  1.61356406  1.49898402  0.00734738  0.84721374\n",
      "   0.88640526]\n",
      " [ 0.11341914  0.25535873 -0.09692788  0.05765323  0.55840102  0.99465023\n",
      "   0.88640526]\n",
      " [-0.39442776 -0.06788017 -0.09692788 -0.42279036 -1.64581354 -1.16775159\n",
      "   0.88640526]\n",
      " [ 1.80624215  1.5483143   0.75831809  0.05765323  1.10945467  1.3878142\n",
      "   0.88640526]\n",
      " [-0.47906891 -0.55273851 -0.09692788  0.05765323 -1.64581354 -0.67629663\n",
      "   0.88640526]\n",
      " [-0.90227466 -0.71435795 -0.95217384 -0.90323396 -0.54370626 -0.41418732\n",
      "  -1.12815215]\n",
      " [-0.30978661 -0.22949961 -0.95217384 -0.90323396 -1.64581354 -0.29951449\n",
      "  -1.12815215]\n",
      " [ 1.46767755  1.38669485  0.75831809  0.53809683  0.00734738  1.51886886\n",
      "   0.88640526]\n",
      " [-1.66404502 -1.84569408 -0.95217384 -0.90323396 -2.19686719 -1.18413342\n",
      "  -1.12815215]\n",
      " [ 0.19806029  0.41697817 -0.09692788 -0.42279036 -1.0947599   0.29023146\n",
      "  -1.12815215]\n",
      " [ 0.7059072   0.57859762 -0.09692788 -0.42279036  0.00734738  0.14279497\n",
      "  -1.12815215]\n",
      " [ 0.28270144 -0.71435795 -0.09692788 -0.42279036 -0.54370626 -1.49538823\n",
      "  -1.12815215]\n",
      " [ 1.0444718   0.57859762  0.75831809  1.01854042  1.10945467  0.9291229\n",
      "   0.88640526]\n",
      " [-0.64835121 -0.22949961 -0.95217384 -0.90323396 -1.0947599  -1.00393327\n",
      "  -1.12815215]\n",
      " [ 0.62126604  0.57859762  0.75831809 -0.42279036 -0.54370626  0.65063176\n",
      "   0.88640526]\n",
      " [-0.56371006 -0.22949961  0.75831809 -1.86412115 -1.0947599  -0.41418732\n",
      "  -1.12815215]\n",
      " [ 0.36734259  0.25535873 -0.09692788 -0.42279036 -0.54370626 -0.11931434\n",
      "   0.88640526]\n",
      " [ 0.62126604  0.41697817 -0.09692788  0.05765323  0.00734738  0.69977726\n",
      "   0.88640526]\n",
      " [ 0.79054835  1.38669485 -0.09692788  0.05765323  0.55840102  0.86359558\n",
      "   0.88640526]\n",
      " [ 0.45198374 -0.55273851 -0.09692788  0.05765323  0.55840102  0.37214062\n",
      "   0.88640526]\n",
      " [ 1.5523187   1.2250754   0.75831809  1.01854042  1.10945467  1.7482145\n",
      "   0.88640526]\n",
      " [-0.05586316 -0.8759774  -0.09692788 -1.38367756 -0.54370626 -1.98684319\n",
      "  -1.12815215]\n",
      " [-1.24083927 -0.8759774  -1.80741981 -1.38367756 -2.19686719 -1.00393327\n",
      "  -1.12815215]\n",
      " [ 0.62126604  0.57859762  1.61356406  1.01854042  0.55840102  0.89635924\n",
      "   0.88640526]\n",
      " [-0.14050431 -0.39111906 -0.09692788 -1.38367756 -1.0947599  -0.21760533\n",
      "  -1.12815215]\n",
      " [-0.22514546  0.25535873  0.75831809  0.05765323  0.55840102  0.25746779\n",
      "   0.88640526]\n",
      " [-0.22514546 -0.8759774  -0.95217384 -1.38367756 -1.0947599  -0.6107693\n",
      "  -1.12815215]\n",
      " [ 0.7059072   0.41697817 -0.95217384 -0.42279036 -1.0947599   0.24108596\n",
      "   0.88640526]\n",
      " [-0.30978661 -0.8759774  -0.09692788  0.05765323  0.55840102  0.47043161\n",
      "   0.88640526]]\n"
     ]
    }
   ],
   "source": [
    "print(x_test)"
   ]
  },
  {
   "cell_type": "code",
   "execution_count": 92,
   "metadata": {},
   "outputs": [],
   "source": [
    "# APPLY DECISION TREE Model by importing libraries from sklearn "
   ]
  },
  {
   "cell_type": "code",
   "execution_count": 93,
   "metadata": {},
   "outputs": [
    {
     "data": {
      "text/plain": [
       "DecisionTreeClassifier(criterion='entropy', random_state=0)"
      ]
     },
     "execution_count": 93,
     "metadata": {},
     "output_type": "execute_result"
    }
   ],
   "source": [
    "from sklearn.tree import DecisionTreeClassifier\n",
    "classifier = DecisionTreeClassifier(criterion = 'entropy', random_state = 0)\n",
    "classifier.fit(x_train, y_train)"
   ]
  },
  {
   "cell_type": "code",
   "execution_count": 103,
   "metadata": {},
   "outputs": [
    {
     "name": "stdout",
     "output_type": "stream",
     "text": [
      "[[ 3  5]\n",
      " [ 4 88]]\n"
     ]
    },
    {
     "data": {
      "text/plain": [
       "91.0"
      ]
     },
     "execution_count": 103,
     "metadata": {},
     "output_type": "execute_result"
    }
   ],
   "source": [
    "#IMPORT THE METRICS CONFUSION MATRIX AND ACCURACY SCORE FROM SKLEARN LIBRARY\n",
    "from sklearn.metrics import confusion_matrix, accuracy_score\n",
    "# PREDICT THE VALUES USINGCLASSIFIER MODEL\n",
    "y_pred = classifier.predict(x_test)\n",
    "# CREATE A CONFUSION MATRIX AS PER THE PREDICTION\n",
    "cm = confusion_matrix(y_test, y_pred)\n",
    "# PRINT THE METRIX\n",
    "print(cm)\n",
    "# PRINT ACCURACY OF YOUR MODEL\n",
    "accuracy_score(y_test, y_pred)*100"
   ]
  },
  {
   "cell_type": "code",
   "execution_count": 95,
   "metadata": {},
   "outputs": [
    {
     "name": "stdout",
     "output_type": "stream",
     "text": [
      "400\n",
      "400\n"
     ]
    }
   ],
   "source": [
    "print(len(x))\n",
    "print(len(y))\n"
   ]
  },
  {
   "cell_type": "code",
   "execution_count": 129,
   "metadata": {},
   "outputs": [],
   "source": [
    "fn = ['GRE Score','TOEFL Score','University Rating','SOP','LOR','CGPA','Research']\n",
    "cn = ['Chance of Admit']"
   ]
  },
  {
   "cell_type": "code",
   "execution_count": 135,
   "metadata": {},
   "outputs": [],
   "source": [
    "%matplotlib inline\n",
    "import matplotlib.pyplot as plt\n",
    "from sklearn.tree import DecisionTreeClassifier\n",
    "import pandas as pd\n",
    "import numpy as np\n",
    "from sklearn import tree"
   ]
  },
  {
   "cell_type": "code",
   "execution_count": 138,
   "metadata": {},
   "outputs": [
    {
     "data": {
      "image/png": "[encoded data removed]",
      "text/plain": [
       "<Figure size 1200x1200 with 1 Axes>"
      ]
     },
     "metadata": {
      "needs_background": "light"
     },
     "output_type": "display_data"
    }
   ],
   "source": [
    "fig, axes = plt.subplots(nrows = 1, ncols = 1, figsize = (4,4), dpi = 300)\n",
    "\n",
    "tree.plot_tree(classifier);"
   ]
  },
  {
   "cell_type": "code",
   "execution_count": null,
   "metadata": {},
   "outputs": [],
   "source": []
  }
 ],
 "metadata": {
  "kernelspec": {
   "display_name": "Python 3",
   "language": "python",
   "name": "python3"
  },
  "language_info": {
   "codemirror_mode": {
    "name": "ipython",
    "version": 3
   },
   "file_extension": ".py",
   "mimetype": "text/x-python",
   "name": "python",
   "nbconvert_exporter": "python",
   "pygments_lexer": "ipython3",
   "version": "3.7.3"
  }
 },
 "nbformat": 4,
 "nbformat_minor": 2
}
