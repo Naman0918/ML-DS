{
  "nbformat": 4,
  "nbformat_minor": 0,
  "metadata": {
    "colab": {
      "provenance": []
    },
    "kernelspec": {
      "name": "python3",
      "display_name": "Python 3"
    }
  },
  "cells": [
    {
      "cell_type": "markdown",
      "metadata": {
        "id": "lP6JLo1tGNBg"
      },
      "source": [
        "# Artificial Neural Network"
      ]
    },
    {
      "cell_type": "markdown",
      "metadata": {
        "id": "gWZyYmS_UE_L"
      },
      "source": [
        "### Importing the libraries"
      ]
    },
    {
      "cell_type": "code",
      "metadata": {
        "id": "MxkJoQBkUIHC"
      },
      "source": [
        "import numpy as np\n",
        "import pandas as pd\n",
        "import tensorflow as tf"
      ],
      "execution_count": 2,
      "outputs": []
    },
    {
      "cell_type": "code",
      "metadata": {
        "id": "ZaTwK7ojXr2F",
        "outputId": "0b27a96d-d11a-43e8-ab4b-87c1f01896fe",
        "colab": {
          "base_uri": "https://localhost:8080/",
          "height": 34
        }
      },
      "source": [
        "tf.__version__"
      ],
      "execution_count": null,
      "outputs": [
        {
          "output_type": "execute_result",
          "data": {
            "text/plain": [
              "'2.2.0'"
            ]
          },
          "metadata": {
            "tags": []
          },
          "execution_count": 2
        }
      ]
    },
    {
      "cell_type": "markdown",
      "metadata": {
        "id": "1E0Q3aoKUCRX"
      },
      "source": [
        "## Part 1 - Data Preprocessing"
      ]
    },
    {
      "cell_type": "code",
      "source": [
        "dataset = pd.read_excel('Folds5x2_pp.xlsx')\n",
        "x = dataset.iloc[:, :-1].values\n",
        "y = dataset.iloc[:, -1].values"
      ],
      "metadata": {
        "id": "o25jNqXHmGLw"
      },
      "execution_count": 5,
      "outputs": []
    },
    {
      "cell_type": "markdown",
      "metadata": {
        "id": "cKWAkFVGUU0Z"
      },
      "source": [
        "### Importing the dataset"
      ]
    },
    {
      "cell_type": "code",
      "source": [
        "print(x)"
      ],
      "metadata": {
        "colab": {
          "base_uri": "https://localhost:8080/"
        },
        "id": "QiHQze9vm6B5",
        "outputId": "bfb3db97-0dc8-449f-98bc-493bf77840e7"
      },
      "execution_count": 6,
      "outputs": [
        {
          "output_type": "stream",
          "name": "stdout",
          "text": [
            "[[  14.96   41.76 1024.07   73.17]\n",
            " [  25.18   62.96 1020.04   59.08]\n",
            " [   5.11   39.4  1012.16   92.14]\n",
            " ...\n",
            " [  31.32   74.33 1012.92   36.48]\n",
            " [  24.48   69.45 1013.86   62.39]\n",
            " [  21.6    62.52 1017.23   67.87]]\n"
          ]
        }
      ]
    },
    {
      "cell_type": "code",
      "source": [
        "print(y)"
      ],
      "metadata": {
        "colab": {
          "base_uri": "https://localhost:8080/"
        },
        "id": "LR_lGVjXm6Ev",
        "outputId": "090cc07b-fcc6-43de-b696-a532b6f04ae5"
      },
      "execution_count": 7,
      "outputs": [
        {
          "output_type": "stream",
          "name": "stdout",
          "text": [
            "[463.26 444.37 488.56 ... 429.57 435.74 453.28]\n"
          ]
        }
      ]
    },
    {
      "cell_type": "markdown",
      "metadata": {
        "id": "N6bQ0UgSU-NJ"
      },
      "source": [
        "### Encoding categorical data"
      ]
    },
    {
      "cell_type": "code",
      "source": [
        "# No encoding required as the dataset hai only numerical values"
      ],
      "metadata": {
        "id": "EJbnt4vknagP"
      },
      "execution_count": null,
      "outputs": []
    },
    {
      "cell_type": "markdown",
      "metadata": {
        "id": "vHol938cW8zd"
      },
      "source": [
        "### Splitting the dataset into the Training set and Test set"
      ]
    },
    {
      "cell_type": "code",
      "source": [
        "from sklearn.model_selection import train_test_split\n",
        "x_train, x_test, y_train, y_test = train_test_split(x, y, test_size = 0.2, random_state = 0)"
      ],
      "metadata": {
        "id": "iWsXzhkungh6"
      },
      "execution_count": 9,
      "outputs": []
    },
    {
      "cell_type": "code",
      "source": [
        "print(x_train)"
      ],
      "metadata": {
        "colab": {
          "base_uri": "https://localhost:8080/"
        },
        "id": "n_0nrPJenxAl",
        "outputId": "ebe70bae-391c-42a7-e9dc-438f6a288e86"
      },
      "execution_count": 10,
      "outputs": [
        {
          "output_type": "stream",
          "name": "stdout",
          "text": [
            "[[  11.22   43.13 1017.24   80.9 ]\n",
            " [  13.67   54.3  1015.92   75.42]\n",
            " [  32.84   77.95 1014.68   45.8 ]\n",
            " ...\n",
            " [  16.81   38.52 1018.26   75.21]\n",
            " [  12.8    41.16 1022.43   86.19]\n",
            " [  32.32   67.9  1006.08   37.93]]\n"
          ]
        }
      ]
    },
    {
      "cell_type": "code",
      "source": [
        "print(y_train)"
      ],
      "metadata": {
        "colab": {
          "base_uri": "https://localhost:8080/"
        },
        "id": "3y1vFseUnxEu",
        "outputId": "15ecdb97-d8bb-4ec3-c2d5-cdbfff9b0b50"
      },
      "execution_count": 11,
      "outputs": [
        {
          "output_type": "stream",
          "name": "stdout",
          "text": [
            "[473.93 467.87 431.97 ... 459.01 462.72 428.12]\n"
          ]
        }
      ]
    },
    {
      "cell_type": "code",
      "source": [
        "print(x_test)"
      ],
      "metadata": {
        "colab": {
          "base_uri": "https://localhost:8080/"
        },
        "id": "RatOQCDQnxI6",
        "outputId": "570085d2-cb82-4064-d7db-24c090bd1e26"
      },
      "execution_count": 12,
      "outputs": [
        {
          "output_type": "stream",
          "name": "stdout",
          "text": [
            "[[  28.66   77.95 1009.56   69.07]\n",
            " [  17.48   49.39 1021.51   84.53]\n",
            " [  14.86   43.14 1019.21   99.14]\n",
            " ...\n",
            " [  12.24   44.92 1023.74   88.21]\n",
            " [  27.28   47.93 1003.46   59.22]\n",
            " [  17.28   39.99 1007.09   74.25]]\n"
          ]
        }
      ]
    },
    {
      "cell_type": "code",
      "source": [
        "print(y_test)"
      ],
      "metadata": {
        "colab": {
          "base_uri": "https://localhost:8080/"
        },
        "id": "Bm1R-LPRnxOX",
        "outputId": "b6d31c5f-5eb1-4c21-d3b9-29c86dbcbd42"
      },
      "execution_count": 13,
      "outputs": [
        {
          "output_type": "stream",
          "name": "stdout",
          "text": [
            "[431.23 460.01 461.14 ... 473.26 438.   463.28]\n"
          ]
        }
      ]
    },
    {
      "cell_type": "markdown",
      "metadata": {
        "id": "RE_FcHyfV3TQ"
      },
      "source": [
        "### Feature Scaling"
      ]
    },
    {
      "cell_type": "code",
      "source": [
        "# Not requires as all are numeric data and can be used"
      ],
      "metadata": {
        "id": "f-0Yxy81nut9"
      },
      "execution_count": null,
      "outputs": []
    },
    {
      "cell_type": "markdown",
      "metadata": {
        "id": "-zfEzkRVXIwF"
      },
      "source": [
        "## Part 2 - Building the ANN"
      ]
    },
    {
      "cell_type": "markdown",
      "metadata": {
        "id": "KvdeScabXtlB"
      },
      "source": [
        "### Initializing the ANN"
      ]
    },
    {
      "cell_type": "code",
      "source": [
        "ann = tf.keras.models.Sequential()"
      ],
      "metadata": {
        "id": "VSVWyiW2oDIu"
      },
      "execution_count": 14,
      "outputs": []
    },
    {
      "cell_type": "markdown",
      "metadata": {
        "id": "rP6urV6SX7kS"
      },
      "source": [
        "### Adding the input layer and the first hidden layer"
      ]
    },
    {
      "cell_type": "code",
      "source": [
        "ann.add(tf.keras.layers.Dense(units=6, activation='relu'))"
      ],
      "metadata": {
        "id": "epxCx5oeoG1K"
      },
      "execution_count": 15,
      "outputs": []
    },
    {
      "cell_type": "markdown",
      "metadata": {
        "id": "BELWAc_8YJze"
      },
      "source": [
        "### Adding the second hidden layer"
      ]
    },
    {
      "cell_type": "code",
      "source": [
        "ann.add(tf.keras.layers.Dense(units=6, activation='relu'))"
      ],
      "metadata": {
        "id": "67bSO5auoHXh"
      },
      "execution_count": 16,
      "outputs": []
    },
    {
      "cell_type": "markdown",
      "metadata": {
        "id": "OyNEe6RXYcU4"
      },
      "source": [
        "### Adding the output layer"
      ]
    },
    {
      "cell_type": "code",
      "source": [
        "ann.add(tf.keras.layers.Dense(units=1, activation='sigmoid'))"
      ],
      "metadata": {
        "id": "0tWuoT0xoH8i"
      },
      "execution_count": 17,
      "outputs": []
    },
    {
      "cell_type": "markdown",
      "metadata": {
        "id": "JT4u2S1_Y4WG"
      },
      "source": [
        "## Part 3 - Training the ANN"
      ]
    },
    {
      "cell_type": "markdown",
      "metadata": {
        "id": "8GWlJChhY_ZI"
      },
      "source": [
        "### Compiling the ANN"
      ]
    },
    {
      "cell_type": "code",
      "source": [
        "ann.compile(optimizer = 'adam', loss = 'mean_squared_error')\n",
        "#As we are not dealing with binary value hence"
      ],
      "metadata": {
        "id": "_HvwRt1GoIjV"
      },
      "execution_count": 18,
      "outputs": []
    },
    {
      "cell_type": "markdown",
      "metadata": {
        "id": "0QR_G5u7ZLSM"
      },
      "source": [
        "### Training the ANN on the Training set"
      ]
    },
    {
      "cell_type": "code",
      "source": [
        "ann.fit(x_train, y_train, batch_size = 32, epochs = 100)"
      ],
      "metadata": {
        "colab": {
          "base_uri": "https://localhost:8080/"
        },
        "id": "-Y2fvIgsoJKY",
        "outputId": "ed8bfba0-3ae3-4343-94fd-064d78bdad26"
      },
      "execution_count": 20,
      "outputs": [
        {
          "output_type": "stream",
          "name": "stdout",
          "text": [
            "Epoch 1/100\n",
            "240/240 [==============================] - 1s 2ms/step - loss: 205774.6094\n",
            "Epoch 2/100\n",
            "240/240 [==============================] - 0s 2ms/step - loss: 205774.7344\n",
            "Epoch 3/100\n",
            "240/240 [==============================] - 0s 2ms/step - loss: 205774.6719\n",
            "Epoch 4/100\n",
            "240/240 [==============================] - 0s 2ms/step - loss: 205774.6875\n",
            "Epoch 5/100\n",
            "240/240 [==============================] - 0s 2ms/step - loss: 205774.6406\n",
            "Epoch 6/100\n",
            "240/240 [==============================] - 0s 2ms/step - loss: 205774.7031\n",
            "Epoch 7/100\n",
            "240/240 [==============================] - 0s 2ms/step - loss: 205774.6875\n",
            "Epoch 8/100\n",
            "240/240 [==============================] - 0s 2ms/step - loss: 205774.6875\n",
            "Epoch 9/100\n",
            "240/240 [==============================] - 0s 2ms/step - loss: 205774.7344\n",
            "Epoch 10/100\n",
            "240/240 [==============================] - 0s 2ms/step - loss: 205774.5781\n",
            "Epoch 11/100\n",
            "240/240 [==============================] - 0s 2ms/step - loss: 205774.7188\n",
            "Epoch 12/100\n",
            "240/240 [==============================] - 0s 2ms/step - loss: 205774.6562\n",
            "Epoch 13/100\n",
            "240/240 [==============================] - 0s 2ms/step - loss: 205774.6875\n",
            "Epoch 14/100\n",
            "240/240 [==============================] - 0s 2ms/step - loss: 205774.6562\n",
            "Epoch 15/100\n",
            "240/240 [==============================] - 1s 2ms/step - loss: 205774.7031\n",
            "Epoch 16/100\n",
            "240/240 [==============================] - 1s 2ms/step - loss: 205774.6875\n",
            "Epoch 17/100\n",
            "240/240 [==============================] - 1s 2ms/step - loss: 205774.7031\n",
            "Epoch 18/100\n",
            "240/240 [==============================] - 1s 2ms/step - loss: 205774.6094\n",
            "Epoch 19/100\n",
            "240/240 [==============================] - 1s 2ms/step - loss: 205774.7031\n",
            "Epoch 20/100\n",
            "240/240 [==============================] - 0s 2ms/step - loss: 205774.7031\n",
            "Epoch 21/100\n",
            "240/240 [==============================] - 0s 2ms/step - loss: 205774.6719\n",
            "Epoch 22/100\n",
            "240/240 [==============================] - 0s 2ms/step - loss: 205774.6406\n",
            "Epoch 23/100\n",
            "240/240 [==============================] - 0s 2ms/step - loss: 205774.6406\n",
            "Epoch 24/100\n",
            "240/240 [==============================] - 0s 2ms/step - loss: 205774.7031\n",
            "Epoch 25/100\n",
            "240/240 [==============================] - 0s 2ms/step - loss: 205774.6406\n",
            "Epoch 26/100\n",
            "240/240 [==============================] - 0s 2ms/step - loss: 205774.6562\n",
            "Epoch 27/100\n",
            "240/240 [==============================] - 0s 2ms/step - loss: 205774.7188\n",
            "Epoch 28/100\n",
            "240/240 [==============================] - 0s 2ms/step - loss: 205774.6406\n",
            "Epoch 29/100\n",
            "240/240 [==============================] - 0s 2ms/step - loss: 205774.7344\n",
            "Epoch 30/100\n",
            "240/240 [==============================] - 0s 2ms/step - loss: 205774.5469\n",
            "Epoch 31/100\n",
            "240/240 [==============================] - 0s 2ms/step - loss: 205774.7188\n",
            "Epoch 32/100\n",
            "240/240 [==============================] - 0s 2ms/step - loss: 205774.6719\n",
            "Epoch 33/100\n",
            "240/240 [==============================] - 0s 2ms/step - loss: 205774.6719\n",
            "Epoch 34/100\n",
            "240/240 [==============================] - 0s 2ms/step - loss: 205774.6406\n",
            "Epoch 35/100\n",
            "240/240 [==============================] - 0s 2ms/step - loss: 205774.6875\n",
            "Epoch 36/100\n",
            "240/240 [==============================] - 0s 2ms/step - loss: 205774.6875\n",
            "Epoch 37/100\n",
            "240/240 [==============================] - 0s 2ms/step - loss: 205774.6406\n",
            "Epoch 38/100\n",
            "240/240 [==============================] - 0s 2ms/step - loss: 205774.6562\n",
            "Epoch 39/100\n",
            "240/240 [==============================] - 0s 2ms/step - loss: 205774.6719\n",
            "Epoch 40/100\n",
            "240/240 [==============================] - 0s 2ms/step - loss: 205774.7188\n",
            "Epoch 41/100\n",
            "240/240 [==============================] - 0s 2ms/step - loss: 205774.7344\n",
            "Epoch 42/100\n",
            "240/240 [==============================] - 0s 2ms/step - loss: 205774.7188\n",
            "Epoch 43/100\n",
            "240/240 [==============================] - 0s 2ms/step - loss: 205774.6562\n",
            "Epoch 44/100\n",
            "240/240 [==============================] - 0s 2ms/step - loss: 205774.7500\n",
            "Epoch 45/100\n",
            "240/240 [==============================] - 1s 2ms/step - loss: 205774.6875\n",
            "Epoch 46/100\n",
            "240/240 [==============================] - 1s 2ms/step - loss: 205774.6406\n",
            "Epoch 47/100\n",
            "240/240 [==============================] - 1s 2ms/step - loss: 205774.6094\n",
            "Epoch 48/100\n",
            "240/240 [==============================] - 1s 2ms/step - loss: 205774.7969\n",
            "Epoch 49/100\n",
            "240/240 [==============================] - 1s 3ms/step - loss: 205774.6875\n",
            "Epoch 50/100\n",
            "240/240 [==============================] - 0s 2ms/step - loss: 205774.7188\n",
            "Epoch 51/100\n",
            "240/240 [==============================] - 0s 2ms/step - loss: 205774.7031\n",
            "Epoch 52/100\n",
            "240/240 [==============================] - 0s 2ms/step - loss: 205774.5938\n",
            "Epoch 53/100\n",
            "240/240 [==============================] - 0s 2ms/step - loss: 205774.6562\n",
            "Epoch 54/100\n",
            "240/240 [==============================] - 0s 2ms/step - loss: 205774.6719\n",
            "Epoch 55/100\n",
            "240/240 [==============================] - 0s 2ms/step - loss: 205774.6875\n",
            "Epoch 56/100\n",
            "240/240 [==============================] - 0s 2ms/step - loss: 205774.6719\n",
            "Epoch 57/100\n",
            "240/240 [==============================] - 0s 2ms/step - loss: 205774.6562\n",
            "Epoch 58/100\n",
            "240/240 [==============================] - 0s 2ms/step - loss: 205774.6406\n",
            "Epoch 59/100\n",
            "240/240 [==============================] - 0s 2ms/step - loss: 205774.7656\n",
            "Epoch 60/100\n",
            "240/240 [==============================] - 0s 2ms/step - loss: 205774.7031\n",
            "Epoch 61/100\n",
            "240/240 [==============================] - 0s 2ms/step - loss: 205774.7188\n",
            "Epoch 62/100\n",
            "240/240 [==============================] - 0s 2ms/step - loss: 205774.6406\n",
            "Epoch 63/100\n",
            "240/240 [==============================] - 0s 1ms/step - loss: 205774.6875\n",
            "Epoch 64/100\n",
            "240/240 [==============================] - 0s 2ms/step - loss: 205774.6875\n",
            "Epoch 65/100\n",
            "240/240 [==============================] - 0s 2ms/step - loss: 205774.7031\n",
            "Epoch 66/100\n",
            "240/240 [==============================] - 0s 2ms/step - loss: 205774.6562\n",
            "Epoch 67/100\n",
            "240/240 [==============================] - 0s 2ms/step - loss: 205774.6719\n",
            "Epoch 68/100\n",
            "240/240 [==============================] - 0s 2ms/step - loss: 205774.6875\n",
            "Epoch 69/100\n",
            "240/240 [==============================] - 0s 2ms/step - loss: 205774.6094\n",
            "Epoch 70/100\n",
            "240/240 [==============================] - 0s 2ms/step - loss: 205774.6719\n",
            "Epoch 71/100\n",
            "240/240 [==============================] - 0s 2ms/step - loss: 205774.6875\n",
            "Epoch 72/100\n",
            "240/240 [==============================] - 0s 2ms/step - loss: 205774.5781\n",
            "Epoch 73/100\n",
            "240/240 [==============================] - 0s 2ms/step - loss: 205774.6875\n",
            "Epoch 74/100\n",
            "240/240 [==============================] - 0s 2ms/step - loss: 205774.6719\n",
            "Epoch 75/100\n",
            "240/240 [==============================] - 0s 2ms/step - loss: 205774.6094\n",
            "Epoch 76/100\n",
            "240/240 [==============================] - 1s 2ms/step - loss: 205774.6875\n",
            "Epoch 77/100\n",
            "240/240 [==============================] - 1s 2ms/step - loss: 205774.6875\n",
            "Epoch 78/100\n",
            "240/240 [==============================] - 1s 3ms/step - loss: 205774.6094\n",
            "Epoch 79/100\n",
            "240/240 [==============================] - 1s 3ms/step - loss: 205774.6562\n",
            "Epoch 80/100\n",
            "240/240 [==============================] - 0s 2ms/step - loss: 205774.7188\n",
            "Epoch 81/100\n",
            "240/240 [==============================] - 0s 2ms/step - loss: 205774.6875\n",
            "Epoch 82/100\n",
            "240/240 [==============================] - 0s 2ms/step - loss: 205774.6406\n",
            "Epoch 83/100\n",
            "240/240 [==============================] - 0s 2ms/step - loss: 205774.7344\n",
            "Epoch 84/100\n",
            "240/240 [==============================] - 0s 2ms/step - loss: 205774.6406\n",
            "Epoch 85/100\n",
            "240/240 [==============================] - 0s 2ms/step - loss: 205774.5781\n",
            "Epoch 86/100\n",
            "240/240 [==============================] - 0s 2ms/step - loss: 205774.5625\n",
            "Epoch 87/100\n",
            "240/240 [==============================] - 0s 2ms/step - loss: 205774.5781\n",
            "Epoch 88/100\n",
            "240/240 [==============================] - 0s 2ms/step - loss: 205774.5938\n",
            "Epoch 89/100\n",
            "240/240 [==============================] - 0s 2ms/step - loss: 205774.6562\n",
            "Epoch 90/100\n",
            "240/240 [==============================] - 0s 2ms/step - loss: 205774.6562\n",
            "Epoch 91/100\n",
            "240/240 [==============================] - 0s 2ms/step - loss: 205774.6875\n",
            "Epoch 92/100\n",
            "240/240 [==============================] - 0s 2ms/step - loss: 205774.6875\n",
            "Epoch 93/100\n",
            "240/240 [==============================] - 0s 2ms/step - loss: 205774.6406\n",
            "Epoch 94/100\n",
            "240/240 [==============================] - 0s 2ms/step - loss: 205774.6719\n",
            "Epoch 95/100\n",
            "240/240 [==============================] - 0s 2ms/step - loss: 205774.6406\n",
            "Epoch 96/100\n",
            "240/240 [==============================] - 0s 2ms/step - loss: 205774.7031\n",
            "Epoch 97/100\n",
            "240/240 [==============================] - 0s 2ms/step - loss: 205774.7344\n",
            "Epoch 98/100\n",
            "240/240 [==============================] - 0s 2ms/step - loss: 205774.6562\n",
            "Epoch 99/100\n",
            "240/240 [==============================] - 0s 2ms/step - loss: 205774.5938\n",
            "Epoch 100/100\n",
            "240/240 [==============================] - 0s 2ms/step - loss: 205774.6406\n"
          ]
        },
        {
          "output_type": "execute_result",
          "data": {
            "text/plain": [
              "<keras.callbacks.History at 0x7c2188fcaef0>"
            ]
          },
          "metadata": {},
          "execution_count": 20
        }
      ]
    },
    {
      "cell_type": "markdown",
      "metadata": {
        "id": "tJj5k2MxZga3"
      },
      "source": [
        "## Part 4 - Making the predictions and evaluating the model"
      ]
    },
    {
      "cell_type": "markdown",
      "metadata": {
        "id": "u7yx47jPZt11"
      },
      "source": [
        "### Predicting the Test set results"
      ]
    },
    {
      "cell_type": "code",
      "source": [
        "y_pred = ann.predict(x_test)\n",
        "y_pred = (y_pred > 0.5)\n",
        "print(np.concatenate((y_pred.reshape(len(y_pred),1), y_test.reshape(len(y_test),1)),1))"
      ],
      "metadata": {
        "colab": {
          "base_uri": "https://localhost:8080/"
        },
        "id": "9dWEFb4pr9Dq",
        "outputId": "71e08a5f-d8c2-4162-a9cc-fc97acd34b17"
      },
      "execution_count": 26,
      "outputs": [
        {
          "output_type": "stream",
          "name": "stdout",
          "text": [
            "60/60 [==============================] - 0s 1ms/step\n",
            "[[  1.   431.23]\n",
            " [  1.   460.01]\n",
            " [  1.   461.14]\n",
            " ...\n",
            " [  1.   473.26]\n",
            " [  1.   438.  ]\n",
            " [  1.   463.28]]\n"
          ]
        }
      ]
    },
    {
      "cell_type": "markdown",
      "metadata": {
        "id": "o0oyfLWoaEGw"
      },
      "source": [
        "### Making the Confusion Matrix"
      ]
    },
    {
      "cell_type": "code",
      "source": [],
      "metadata": {
        "id": "4hIOB3SZsL8t"
      },
      "execution_count": null,
      "outputs": []
    }
  ]
}