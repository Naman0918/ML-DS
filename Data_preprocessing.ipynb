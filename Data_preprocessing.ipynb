{
  "cells": [
    {
      "cell_type": "code",
      "execution_count": 6,
      "metadata": {
        "id": "W9UVRX_Ba2o4"
      },
      "outputs": [],
      "source": [
        "import pandas as pd\n",
        "import numpy as np\n",
        "import matplotlib.pyplot as plt"
      ]
    },
    {
      "cell_type": "code",
      "execution_count": 7,
      "metadata": {
        "id": "z2ymmq6L1L7m"
      },
      "outputs": [],
      "source": [
        "# THIS IS USED TO PRINT THE FIRST 3 COLUMNS AND THE LAST COLUMN SEPERATELY\n",
        "dataset = pd.read_csv('Data.csv')\n",
        "x = dataset.iloc[:,:-1].values\n",
        "y = dataset.iloc[:, -1].values\n",
        "# FOR OTHER DATASET CHECK FOR FEATURES AND DEPENDANT COLUMNS AND THE APPLY X , Y FORMULAS\n",
        "# which columns to be kept in matrix and matrix 2"
      ]
    },
    {
      "cell_type": "code",
      "execution_count": 8,
      "metadata": {
        "colab": {
          "base_uri": "https://localhost:8080/"
        },
        "id": "ARXTsWFl3mLc",
        "outputId": "b2a91eb9-32c5-49e3-a6f7-502b632fbd62"
      },
      "outputs": [
        {
          "name": "stdout",
          "output_type": "stream",
          "text": [
            "[['France' 44.0 72000.0]\n",
            " ['Spain' 27.0 48000.0]\n",
            " ['Germany' 30.0 54000.0]\n",
            " ['Spain' 38.0 61000.0]\n",
            " ['Germany' 40.0 nan]\n",
            " ['France' 35.0 58000.0]\n",
            " ['Spain' nan 52000.0]\n",
            " ['France' 48.0 79000.0]\n",
            " ['Germany' 50.0 83000.0]\n",
            " ['France' 37.0 67000.0]]\n"
          ]
        }
      ],
      "source": [
        "print(x)"
      ]
    },
    {
      "cell_type": "code",
      "execution_count": 9,
      "metadata": {
        "colab": {
          "base_uri": "https://localhost:8080/"
        },
        "id": "14JR0Gxe31aQ",
        "outputId": "72aae266-e4a6-4f38-b617-6085a70011c5"
      },
      "outputs": [
        {
          "name": "stdout",
          "output_type": "stream",
          "text": [
            "['No' 'Yes' 'No' 'No' 'Yes' 'Yes' 'No' 'Yes' 'No' 'Yes']\n"
          ]
        }
      ],
      "source": [
        "print(y)"
      ]
    },
    {
      "cell_type": "code",
      "execution_count": 12,
      "metadata": {
        "id": "nFXNCJpB324U"
      },
      "outputs": [],
      "source": [
        "# THIS LIBRARY IS USED TO REPLACE ALL MISSING VALUES BY THE MEAN OF COLUMNS\n",
        "from sklearn.impute import SimpleImputer\n",
        "imputer = SimpleImputer(missing_values = np.nan, strategy = 'mean')\n",
        "# THIS IS USED TO SPECIFY THE NUMERICAL COLUMN WHICH MEANS COLUMN HAVING INTEGER VALUE\n",
        "imputer.fit(x[:,1:3])\n",
        "# THIS TELLS US TO REPLACE THE COLUMNS WITH THE TRANSFORMED COLUMNS\n",
        "x[:,1:3] = imputer.transform(x[:,1:3])\n"
      ]
    },
    {
      "cell_type": "code",
      "execution_count": 13,
      "metadata": {
        "colab": {
          "base_uri": "https://localhost:8080/"
        },
        "id": "9MFD8DHD9wgL",
        "outputId": "5408ae02-1799-4daa-cf52-65ab34dabd0b"
      },
      "outputs": [
        {
          "name": "stdout",
          "output_type": "stream",
          "text": [
            "[['France' 44.0 72000.0]\n",
            " ['Spain' 27.0 48000.0]\n",
            " ['Germany' 30.0 54000.0]\n",
            " ['Spain' 38.0 61000.0]\n",
            " ['Germany' 40.0 63777.77777777778]\n",
            " ['France' 35.0 58000.0]\n",
            " ['Spain' 38.77777777777778 52000.0]\n",
            " ['France' 48.0 79000.0]\n",
            " ['Germany' 50.0 83000.0]\n",
            " ['France' 37.0 67000.0]]\n"
          ]
        }
      ],
      "source": [
        "print(x)\n",
        "# ALL THE CHANGES WILL BE DONE IN THE X AND NOT TO THE ORIGNAL DATASE AS WE HAVE USED X ABOVE"
      ]
    },
    {
      "cell_type": "code",
      "execution_count": 16,
      "metadata": {
        "id": "tDejL77m_FzU"
      },
      "outputs": [],
      "source": [
        "# Identify missing data (assumes that missing data is represented as NaN)\n",
        "# df = pd.read_csv('Data')\n",
        "# missing_data = df.isnull().sum()"
      ]
    },
    {
      "cell_type": "code",
      "execution_count": 26,
      "metadata": {
        "colab": {
          "base_uri": "https://localhost:8080/"
        },
        "id": "jonIGHCICPpX",
        "outputId": "4ce522d8-0f3e-4ea9-d2a9-a7bd51cd8f72"
      },
      "outputs": [
        {
          "name": "stdout",
          "output_type": "stream",
          "text": [
            "Missing data: \n",
            " Country      0\n",
            "Age          1\n",
            "Salary       1\n",
            "Purchased    0\n",
            "dtype: int64\n",
            "[[1.0 0.0 1.0 0.0 0.0 44.0 72000.0]\n",
            " [0.0 1.0 0.0 0.0 1.0 27.0 48000.0]\n",
            " [0.0 1.0 0.0 1.0 0.0 30.0 54000.0]\n",
            " [0.0 1.0 0.0 0.0 1.0 38.0 61000.0]\n",
            " [0.0 1.0 0.0 1.0 0.0 40.0 63777.77777777778]\n",
            " [1.0 0.0 1.0 0.0 0.0 35.0 58000.0]\n",
            " [0.0 1.0 0.0 0.0 1.0 38.77777777777778 52000.0]\n",
            " [1.0 0.0 1.0 0.0 0.0 48.0 79000.0]\n",
            " [0.0 1.0 0.0 1.0 0.0 50.0 83000.0]\n",
            " [1.0 0.0 1.0 0.0 0.0 37.0 67000.0]]\n"
          ]
        }
      ],
      "source": [
        "# Sample code for above steps\n",
        "\n",
        "# Importing the necessary libraries\n",
        "import pandas as pd\n",
        "import numpy as np\n",
        "from sklearn.impute import SimpleImputer\n",
        "\n",
        "# Load the dataset\n",
        "df = pd.read_csv('Data.csv')\n",
        "\n",
        "# Identify missing data (assumes that missing data is represented as NaN)\n",
        "\n",
        "missing_data = df.isnull().sum()\n",
        "\n",
        "# Print the number of missing entries in each column\n",
        "\n",
        "print(\"Missing data: \\n\", missing_data)\n",
        "\n",
        "# Configure an instance of the SimpleImputer class\n",
        "\n",
        "imputer = SimpleImputer(missing_values = np.nan, strategy = 'mean')\n",
        "\n",
        "# Fit the imputer on the DataFrame\n",
        "\n",
        "imputer.fit(x[:,1:3])\n",
        "\n",
        "# Apply the transform to the DataFrame\n",
        "\n",
        "x[:,1:3] = imputer.transform(x[:,1:3])\n",
        "\n",
#from sklearn.compose import ColumnTransformer
from sklearn.preprocessing import OneHotEncoder
ct = ColumnTransformer(transformers=[('encoder', OneHotEncoder(), [3])], remainder='passthrough')
X = np.array(ct.fit_transform(X))
        "#Print your updated matrix of features\n",
        "print(x)"
      ]
    },
    {
      "cell_type": "code",
      "execution_count": 27,
      "metadata": {
        "id": "1j4pMiTxFECC"
      },
      "outputs": [],
      "source": [
        "from sklearn.compose import ColumnTransformer\n",
        "from sklearn.preprocessing import OneHotEncoder\n",
        "# HERE PASS THROUGH MEANS KEEP THOSE COLUMNS WHERE ENCODING IS NOT DONE\n",
        "ct = ColumnTransformer(transformers=[('encoder', OneHotEncoder(), [0])], remainder='passthrough')\n",
        "x = np.array(ct.fit_transform(x))\n",
        "# converting the country name to a 4 digit 0,1  number like france will be assigned 1 number"
      ]
    },
    {
      "cell_type": "code",
      "execution_count": 28,
      "metadata": {
        "colab": {
          "base_uri": "https://localhost:8080/"
        },
        "id": "KMwKL51dG8GK",
        "outputId": "1c6bf364-7820-419e-d55c-3637aab6ea34"
      },
      "outputs": [
        {
          "name": "stdout",
          "output_type": "stream",
          "text": [
            "[[0.0 1.0 0.0 1.0 0.0 0.0 44.0 72000.0]\n",
            " [1.0 0.0 1.0 0.0 0.0 1.0 27.0 48000.0]\n",
            " [1.0 0.0 1.0 0.0 1.0 0.0 30.0 54000.0]\n",
            " [1.0 0.0 1.0 0.0 0.0 1.0 38.0 61000.0]\n",
            " [1.0 0.0 1.0 0.0 1.0 0.0 40.0 63777.77777777778]\n",
            " [0.0 1.0 0.0 1.0 0.0 0.0 35.0 58000.0]\n",
            " [1.0 0.0 1.0 0.0 0.0 1.0 38.77777777777778 52000.0]\n",
            " [0.0 1.0 0.0 1.0 0.0 0.0 48.0 79000.0]\n",
            " [1.0 0.0 1.0 0.0 1.0 0.0 50.0 83000.0]\n",
            " [0.0 1.0 0.0 1.0 0.0 0.0 37.0 67000.0]]\n"
          ]
        }
      ],
      "source": [
        "print(x)"
      ]
    },
    {
      "cell_type": "code",
      "execution_count": 29,
      "metadata": {
        "id": "bKhPPupWHIHu"
      },
      "outputs": [],
      "source": [
        "# ENCODE THE NO TO 0 AND YES TO 1\n",
        "from sklearn.preprocessing import LabelEncoder\n",
        "le = LabelEncoder()\n",
        "y = le.fit_transform(y)"
      ]
    },
    {
      "cell_type": "code",
      "execution_count": 31,
      "metadata": {
        "colab": {
          "base_uri": "https://localhost:8080/"
        },
        "id": "WN-CAtW5LtE7",
        "outputId": "34fd3ab1-564e-40c9-c404-65508c3c600d"
      },
      "outputs": [
        {
          "name": "stdout",
          "output_type": "stream",
          "text": [
            "[0 1 0 0 1 1 0 1 0 1]\n"
          ]
        }
      ],
      "source": [
        "print(y)"
      ]
    },
    {
      "cell_type": "markdown",
      "metadata": {
        "id": "miQqixgTcipn"
      },
      "source": [
        "SPLITING THE DATASET INTO TRAINING AND TEST SET"
      ]
    },
    {
      "cell_type": "code",
      "execution_count": 66,
      "metadata": {
        "id": "NTi9DEYtcpki"
      },
      "outputs": [],
      "source": [
        "# HERE WE HAVE USE THIS FUNCTION TO SPLIT X AND Y MATRIX INTO 4 NEW\n",
        "# MATRICES WITH 80% AND 20 % TESTING AND TRAINING SIZE\n",
        "from sklearn.model_selection import train_test_split\n",
        "x_train , x_test, y_train, y_test = train_test_split(x, y, test_size = 0.2, random_state = 1)\n"
      ]
    },
    {
      "cell_type": "code",
      "execution_count": 67,
      "metadata": {
        "colab": {
          "base_uri": "https://localhost:8080/"
        },
        "id": "_mk3NBYjeEOC",
        "outputId": "7213845b-0b32-4c44-9cdd-225269580f73"
      },
      "outputs": [
        {
          "name": "stdout",
          "output_type": "stream",
          "text": [
            "[[1.0 0.0 1.0 0.0 0.0 1.0 38.77777777777778 52000.0]\n",
            " [1.0 0.0 1.0 0.0 1.0 0.0 40.0 63777.77777777778]\n",
            " [0.0 1.0 0.0 1.0 0.0 0.0 44.0 72000.0]\n",
            " [1.0 0.0 1.0 0.0 0.0 1.0 38.0 61000.0]\n",
            " [1.0 0.0 1.0 0.0 0.0 1.0 27.0 48000.0]\n",
            " [0.0 1.0 0.0 1.0 0.0 0.0 48.0 79000.0]\n",
            " [1.0 0.0 1.0 0.0 1.0 0.0 50.0 83000.0]\n",
            " [0.0 1.0 0.0 1.0 0.0 0.0 35.0 58000.0]]\n"
          ]
        }
      ],
      "source": [
        "print(x_train)"
      ]
    },
    {
      "cell_type": "code",
      "execution_count": 68,
      "metadata": {
        "colab": {
          "base_uri": "https://localhost:8080/"
        },
        "id": "JK3DV2hUeGhZ",
        "outputId": "9f4f6244-eb2e-4cd5-f53c-a5d726061b9b"
      },
      "outputs": [
        {
          "name": "stdout",
          "output_type": "stream",
          "text": [
            "[[1.0 0.0 1.0 0.0 1.0 0.0 30.0 54000.0]\n",
            " [0.0 1.0 0.0 1.0 0.0 0.0 37.0 67000.0]]\n"
          ]
        }
      ],
      "source": [
        "print(x_test)"
      ]
    },
    {
      "cell_type": "code",
      "execution_count": 69,
      "metadata": {
        "colab": {
          "base_uri": "https://localhost:8080/"
        },
        "id": "Zvh5gGq5eGua",
        "outputId": "724ba8a9-270b-4ead-b6cb-661cccca3d2c"
      },
      "outputs": [
        {
          "name": "stdout",
          "output_type": "stream",
          "text": [
            "[0 1 0 0 1 1 0 1]\n"
          ]
        }
      ],
      "source": [
        "print(y_train)"
      ]
    },
    {
      "cell_type": "code",
      "execution_count": 70,
      "metadata": {
        "colab": {
          "base_uri": "https://localhost:8080/"
        },
        "id": "u9SKlDpveG66",
        "outputId": "e57c0337-9471-42eb-9683-191c25fc7a37"
      },
      "outputs": [
        {
          "name": "stdout",
          "output_type": "stream",
          "text": [
            "[0 1]\n"
          ]
        }
      ],
      "source": [
        "print(y_test)"
      ]
    },
    {
      "cell_type": "markdown",
      "metadata": {
        "id": "QlMPUXmJf6SR"
      },
      "source": [
        "FEATURE SCALING (NOT REQUIRED IN ALL ML MODELS )"
      ]
    },
    {
      "cell_type": "code",
      "execution_count": 71,
      "metadata": {
        "colab": {
          "base_uri": "https://localhost:8080/"
        },
        "id": "c2XIVrm8f-S0",
        "outputId": "49b00c84-ff0a-46b0-c806-7c1a38a9414f"
      },
      "outputs": [
        {
          "name": "stdout",
          "output_type": "stream",
          "text": [
            "[[1.0 0.0 1.0 0.0 0.0 1.0 -0.19159184384578545 -1.0781259408412425]\n",
            " [1.0 0.0 1.0 0.0 1.0 0.0 -0.014117293757057777 -0.07013167641635372]\n",
            " [0.0 1.0 0.0 1.0 0.0 0.0 0.566708506533324 0.633562432710455]\n",
            " [1.0 0.0 1.0 0.0 0.0 1.0 -0.30453019390224867 -0.30786617274297867]\n",
            " [1.0 0.0 1.0 0.0 0.0 1.0 -1.9018011447007988 -1.420463615551582]\n",
            " [0.0 1.0 0.0 1.0 0.0 0.0 1.1475343068237058 1.232653363453549]\n",
            " [1.0 0.0 1.0 0.0 1.0 0.0 1.4379472069688968 1.5749910381638885]\n",
            " [0.0 1.0 0.0 1.0 0.0 0.0 -0.7401495441200351 -0.5646194287757332]]\n"
          ]
        }
      ],
      "source": [
        "# Now we will aplly feature scaling onto the age and salary\n",
        "# This is done by standardisation by formula only apply it to training kit\n",
        "# this will make the age and salary column value between -3 to 3\n",
        "\n",
        "from sklearn.preprocessing import StandardScaler\n",
        "sc = StandardScaler()\n",
        "x_train[:,6:] = sc.fit_transform(x_train[:,6:])\n",
        "print(x_train)"
      ]
    },
    {
      "cell_type": "code",
      "execution_count": 72,
      "metadata": {
        "colab": {
          "base_uri": "https://localhost:8080/"
        },
        "id": "CwcyDY0EmRmT",
        "outputId": "bb9dff99-7e91-4fb0-f8fd-40a4fb5e436d"
      },
      "outputs": [
        {
          "name": "stdout",
          "output_type": "stream",
          "text": [
            "[[1.0 0.0 1.0 0.0 1.0 0.0 -1.4661817944830124 -0.9069571034860727]\n",
            " [0.0 1.0 0.0 1.0 0.0 0.0 -0.44973664397484414 0.2056403393225306]]\n"
          ]
        }
      ],
      "source": [
        "x_test[:, 6:] = sc.transform(x_test[:,6:])\n",
        "print(x_test)"
      ]
    }
  ],
  "metadata": {
    "colab": {
      "provenance": []
    },
    "kernelspec": {
      "display_name": "Python 3",
      "name": "python3"
    },
    "language_info": {
      "name": "python"
    }
  },
  "nbformat": 4,
  "nbformat_minor": 0
}
